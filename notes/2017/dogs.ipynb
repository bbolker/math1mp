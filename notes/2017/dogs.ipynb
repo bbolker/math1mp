{
 "cells": [
  {
   "cell_type": "markdown",
   "metadata": {},
   "source": [
    "Import modules, check out available files"
   ]
  },
  {
   "cell_type": "code",
   "execution_count": 1,
   "metadata": {
    "collapsed": false
   },
   "outputs": [
    {
     "data": {
      "text/plain": [
       "'/media/sf_Documents/classes/math1mp3/math1mp/data'"
      ]
     },
     "execution_count": 1,
     "metadata": {},
     "output_type": "execute_result"
    }
   ],
   "source": [
    "import pandas as pd\n",
    "import os\n",
    "import matplotlib.pyplot as plt\n",
    "import numpy as np\n",
    "os.getcwd()  ## find current working directory\n",
    "##os.listdir(\"../data\")  ## list files\n",
    "os.chdir(\"../data\")\n",
    "os.getcwd()"
   ]
  },
  {
   "cell_type": "markdown",
   "metadata": {},
   "source": [
    "For reading `xlsx` files, pandas has a `read_excel` function: apparently need `xlrd` module installed (within PyCharm, or via `pip`/`pip3` on the command line (`pip3 install`). The other alternative is to open the file in Excel, save as CSV, and use `read_csv` ..."
   ]
  },
  {
   "cell_type": "code",
   "execution_count": 7,
   "metadata": {
    "collapsed": false
   },
   "outputs": [],
   "source": [
    "p = pd.read_excel(\"NYC_Dog_Licenses_Current_as_of_4-28-2016.xlsx\")"
   ]
  },
  {
   "cell_type": "code",
   "execution_count": null,
   "metadata": {
    "collapsed": true
   },
   "outputs": [],
   "source": []
  },
  {
   "cell_type": "markdown",
   "metadata": {},
   "source": [
    "Check it out ..."
   ]
  },
  {
   "cell_type": "code",
   "execution_count": 8,
   "metadata": {
    "collapsed": false,
    "scrolled": true
   },
   "outputs": [
    {
     "data": {
      "text/html": [
       "<div>\n",
       "<table border=\"1\" class=\"dataframe\">\n",
       "  <thead>\n",
       "    <tr style=\"text-align: right;\">\n",
       "      <th></th>\n",
       "      <th>Owner Zip Code</th>\n",
       "      <th>Animal Name</th>\n",
       "      <th>Animal Gender</th>\n",
       "      <th>Primary Breed</th>\n",
       "      <th>Secondary Breed</th>\n",
       "      <th>Animal Dominant Color</th>\n",
       "      <th>Animal Secondary Color</th>\n",
       "      <th>Animal Third Color</th>\n",
       "      <th>Animal Birth</th>\n",
       "      <th>Spayed or Neut</th>\n",
       "      <th>Guard or Trained</th>\n",
       "      <th>Vaccinated</th>\n",
       "      <th>Application Date</th>\n",
       "      <th>License Issued Date</th>\n",
       "      <th>License Expired Date</th>\n",
       "    </tr>\n",
       "  </thead>\n",
       "  <tbody>\n",
       "    <tr>\n",
       "      <th>0</th>\n",
       "      <td>10013</td>\n",
       "      <td>Bilal</td>\n",
       "      <td>M</td>\n",
       "      <td>Australian Cattledog</td>\n",
       "      <td>NaN</td>\n",
       "      <td>Rust</td>\n",
       "      <td>NaN</td>\n",
       "      <td>NaN</td>\n",
       "      <td>2014-09-01 00:00:00</td>\n",
       "      <td>Yes</td>\n",
       "      <td>NaN</td>\n",
       "      <td>No</td>\n",
       "      <td>2014-09-12 13:13:36.713</td>\n",
       "      <td>2014-09-12</td>\n",
       "      <td>2019-09-12</td>\n",
       "    </tr>\n",
       "    <tr>\n",
       "      <th>1</th>\n",
       "      <td>10025</td>\n",
       "      <td>Buddy</td>\n",
       "      <td>M</td>\n",
       "      <td>Unknown</td>\n",
       "      <td>Cockapoo</td>\n",
       "      <td>BLOND</td>\n",
       "      <td>WHITE</td>\n",
       "      <td>NaN</td>\n",
       "      <td>2008-04-01 00:00:00</td>\n",
       "      <td>Yes</td>\n",
       "      <td>No</td>\n",
       "      <td>Yes</td>\n",
       "      <td>2014-09-12 15:26:51.417</td>\n",
       "      <td>2014-09-12</td>\n",
       "      <td>2017-10-20</td>\n",
       "    </tr>\n",
       "    <tr>\n",
       "      <th>2</th>\n",
       "      <td>10013</td>\n",
       "      <td>Ali</td>\n",
       "      <td>M</td>\n",
       "      <td>Basenji</td>\n",
       "      <td>NaN</td>\n",
       "      <td>Black</td>\n",
       "      <td>NaN</td>\n",
       "      <td>NaN</td>\n",
       "      <td>2014-01-01 00:00:00</td>\n",
       "      <td>No</td>\n",
       "      <td>NaN</td>\n",
       "      <td>No</td>\n",
       "      <td>2014-09-12 15:43:17.707</td>\n",
       "      <td>2014-09-12</td>\n",
       "      <td>2019-09-12</td>\n",
       "    </tr>\n",
       "    <tr>\n",
       "      <th>3</th>\n",
       "      <td>10013</td>\n",
       "      <td>Queen</td>\n",
       "      <td>F</td>\n",
       "      <td>Akita Crossbreed</td>\n",
       "      <td>NaN</td>\n",
       "      <td>Charcoal</td>\n",
       "      <td>Red</td>\n",
       "      <td>NaN</td>\n",
       "      <td>2013-04-01 00:00:00</td>\n",
       "      <td>No</td>\n",
       "      <td>NaN</td>\n",
       "      <td>Yes</td>\n",
       "      <td>2014-09-12 16:14:48.487</td>\n",
       "      <td>2014-09-12</td>\n",
       "      <td>2017-09-12</td>\n",
       "    </tr>\n",
       "    <tr>\n",
       "      <th>4</th>\n",
       "      <td>10035</td>\n",
       "      <td>Paige Sable Orta</td>\n",
       "      <td>F</td>\n",
       "      <td>American Pit Bull Mix / Pit Bull Mix</td>\n",
       "      <td>NaN</td>\n",
       "      <td>White</td>\n",
       "      <td>Gray</td>\n",
       "      <td>NaN</td>\n",
       "      <td>2014-07-01 00:00:00</td>\n",
       "      <td>No</td>\n",
       "      <td>NaN</td>\n",
       "      <td>No</td>\n",
       "      <td>2014-09-12 16:22:54.113</td>\n",
       "      <td>2014-09-12</td>\n",
       "      <td>2017-09-12</td>\n",
       "    </tr>\n",
       "  </tbody>\n",
       "</table>\n",
       "</div>"
      ],
      "text/plain": [
       "   Owner Zip Code       Animal Name Animal Gender  \\\n",
       "0           10013             Bilal             M   \n",
       "1           10025             Buddy             M   \n",
       "2           10013               Ali             M   \n",
       "3           10013             Queen             F   \n",
       "4           10035  Paige Sable Orta             F   \n",
       "\n",
       "                          Primary Breed Secondary Breed Animal Dominant Color  \\\n",
       "0                  Australian Cattledog             NaN                  Rust   \n",
       "1                               Unknown        Cockapoo                 BLOND   \n",
       "2                               Basenji             NaN                 Black   \n",
       "3                      Akita Crossbreed             NaN              Charcoal   \n",
       "4  American Pit Bull Mix / Pit Bull Mix             NaN                 White   \n",
       "\n",
       "  Animal Secondary Color Animal Third Color         Animal Birth  \\\n",
       "0                    NaN                NaN  2014-09-01 00:00:00   \n",
       "1                  WHITE                NaN  2008-04-01 00:00:00   \n",
       "2                    NaN                NaN  2014-01-01 00:00:00   \n",
       "3                    Red                NaN  2013-04-01 00:00:00   \n",
       "4                   Gray                NaN  2014-07-01 00:00:00   \n",
       "\n",
       "  Spayed or Neut Guard or Trained Vaccinated        Application Date  \\\n",
       "0            Yes              NaN         No 2014-09-12 13:13:36.713   \n",
       "1            Yes               No        Yes 2014-09-12 15:26:51.417   \n",
       "2             No              NaN         No 2014-09-12 15:43:17.707   \n",
       "3             No              NaN        Yes 2014-09-12 16:14:48.487   \n",
       "4             No              NaN         No 2014-09-12 16:22:54.113   \n",
       "\n",
       "  License Issued Date License Expired Date  \n",
       "0          2014-09-12           2019-09-12  \n",
       "1          2014-09-12           2017-10-20  \n",
       "2          2014-09-12           2019-09-12  \n",
       "3          2014-09-12           2017-09-12  \n",
       "4          2014-09-12           2017-09-12  "
      ]
     },
     "execution_count": 8,
     "metadata": {},
     "output_type": "execute_result"
    }
   ],
   "source": [
    "p.head()"
   ]
  },
  {
   "cell_type": "code",
   "execution_count": 12,
   "metadata": {
    "collapsed": false
   },
   "outputs": [],
   "source": [
    "##p[\"Owner Zip Code\"]"
   ]
  },
  {
   "cell_type": "markdown",
   "metadata": {},
   "source": [
    "Rename columns (the current set is awkward; long, and spaces in names make `p.columnname` impossible)"
   ]
  },
  {
   "cell_type": "code",
   "execution_count": 14,
   "metadata": {
    "collapsed": true
   },
   "outputs": [],
   "source": [
    "## change column names;\n",
    "p.columns = [\"zipcode\",\"name\",\"gender\",\"breed1\",\"breed2\",\n",
    "             \"color1\",\"color2\",\"color3\",\"birth\",\"fixed\",\n",
    "            \"trained\",\"vaccinated\",\"app_date\",\"lic_date\",\"exp_date\"]"
   ]
  },
  {
   "cell_type": "markdown",
   "metadata": {},
   "source": [
    "check again ..."
   ]
  },
  {
   "cell_type": "code",
   "execution_count": 16,
   "metadata": {
    "collapsed": false,
    "scrolled": true
   },
   "outputs": [
    {
     "data": {
      "text/html": [
       "<div>\n",
       "<table border=\"1\" class=\"dataframe\">\n",
       "  <thead>\n",
       "    <tr style=\"text-align: right;\">\n",
       "      <th></th>\n",
       "      <th>zipcode</th>\n",
       "      <th>name</th>\n",
       "      <th>gender</th>\n",
       "      <th>breed1</th>\n",
       "      <th>breed2</th>\n",
       "      <th>color1</th>\n",
       "      <th>color2</th>\n",
       "      <th>color3</th>\n",
       "      <th>birth</th>\n",
       "      <th>fixed</th>\n",
       "      <th>trained</th>\n",
       "      <th>vaccinated</th>\n",
       "      <th>app_date</th>\n",
       "      <th>lic_date</th>\n",
       "      <th>exp_date</th>\n",
       "    </tr>\n",
       "  </thead>\n",
       "  <tbody>\n",
       "    <tr>\n",
       "      <th>0</th>\n",
       "      <td>10013</td>\n",
       "      <td>Bilal</td>\n",
       "      <td>M</td>\n",
       "      <td>Australian Cattledog</td>\n",
       "      <td>NaN</td>\n",
       "      <td>Rust</td>\n",
       "      <td>NaN</td>\n",
       "      <td>NaN</td>\n",
       "      <td>2014-09-01 00:00:00</td>\n",
       "      <td>Yes</td>\n",
       "      <td>NaN</td>\n",
       "      <td>No</td>\n",
       "      <td>2014-09-12 13:13:36.713</td>\n",
       "      <td>2014-09-12</td>\n",
       "      <td>2019-09-12</td>\n",
       "    </tr>\n",
       "    <tr>\n",
       "      <th>1</th>\n",
       "      <td>10025</td>\n",
       "      <td>Buddy</td>\n",
       "      <td>M</td>\n",
       "      <td>Unknown</td>\n",
       "      <td>Cockapoo</td>\n",
       "      <td>BLOND</td>\n",
       "      <td>WHITE</td>\n",
       "      <td>NaN</td>\n",
       "      <td>2008-04-01 00:00:00</td>\n",
       "      <td>Yes</td>\n",
       "      <td>No</td>\n",
       "      <td>Yes</td>\n",
       "      <td>2014-09-12 15:26:51.417</td>\n",
       "      <td>2014-09-12</td>\n",
       "      <td>2017-10-20</td>\n",
       "    </tr>\n",
       "    <tr>\n",
       "      <th>2</th>\n",
       "      <td>10013</td>\n",
       "      <td>Ali</td>\n",
       "      <td>M</td>\n",
       "      <td>Basenji</td>\n",
       "      <td>NaN</td>\n",
       "      <td>Black</td>\n",
       "      <td>NaN</td>\n",
       "      <td>NaN</td>\n",
       "      <td>2014-01-01 00:00:00</td>\n",
       "      <td>No</td>\n",
       "      <td>NaN</td>\n",
       "      <td>No</td>\n",
       "      <td>2014-09-12 15:43:17.707</td>\n",
       "      <td>2014-09-12</td>\n",
       "      <td>2019-09-12</td>\n",
       "    </tr>\n",
       "    <tr>\n",
       "      <th>3</th>\n",
       "      <td>10013</td>\n",
       "      <td>Queen</td>\n",
       "      <td>F</td>\n",
       "      <td>Akita Crossbreed</td>\n",
       "      <td>NaN</td>\n",
       "      <td>Charcoal</td>\n",
       "      <td>Red</td>\n",
       "      <td>NaN</td>\n",
       "      <td>2013-04-01 00:00:00</td>\n",
       "      <td>No</td>\n",
       "      <td>NaN</td>\n",
       "      <td>Yes</td>\n",
       "      <td>2014-09-12 16:14:48.487</td>\n",
       "      <td>2014-09-12</td>\n",
       "      <td>2017-09-12</td>\n",
       "    </tr>\n",
       "    <tr>\n",
       "      <th>4</th>\n",
       "      <td>10035</td>\n",
       "      <td>Paige Sable Orta</td>\n",
       "      <td>F</td>\n",
       "      <td>American Pit Bull Mix / Pit Bull Mix</td>\n",
       "      <td>NaN</td>\n",
       "      <td>White</td>\n",
       "      <td>Gray</td>\n",
       "      <td>NaN</td>\n",
       "      <td>2014-07-01 00:00:00</td>\n",
       "      <td>No</td>\n",
       "      <td>NaN</td>\n",
       "      <td>No</td>\n",
       "      <td>2014-09-12 16:22:54.113</td>\n",
       "      <td>2014-09-12</td>\n",
       "      <td>2017-09-12</td>\n",
       "    </tr>\n",
       "    <tr>\n",
       "      <th>5</th>\n",
       "      <td>10465</td>\n",
       "      <td>Yogi</td>\n",
       "      <td>M</td>\n",
       "      <td>Boxer</td>\n",
       "      <td>NaN</td>\n",
       "      <td>TAN</td>\n",
       "      <td>BLACK</td>\n",
       "      <td>NaN</td>\n",
       "      <td>2010-09-01 00:00:00</td>\n",
       "      <td>Yes</td>\n",
       "      <td>No</td>\n",
       "      <td>Yes</td>\n",
       "      <td>2014-09-12 16:47:35.317</td>\n",
       "      <td>2014-09-12</td>\n",
       "      <td>2017-10-02</td>\n",
       "    </tr>\n",
       "    <tr>\n",
       "      <th>6</th>\n",
       "      <td>10013</td>\n",
       "      <td>Chewbacca</td>\n",
       "      <td>F</td>\n",
       "      <td>Labrador Retriever Crossbreed</td>\n",
       "      <td>NaN</td>\n",
       "      <td>RED</td>\n",
       "      <td>NaN</td>\n",
       "      <td>NaN</td>\n",
       "      <td>2012-06-01 00:00:00</td>\n",
       "      <td>Yes</td>\n",
       "      <td>No</td>\n",
       "      <td>Yes</td>\n",
       "      <td>2014-09-12 17:42:56.647</td>\n",
       "      <td>2014-09-12</td>\n",
       "      <td>2019-10-01</td>\n",
       "    </tr>\n",
       "    <tr>\n",
       "      <th>7</th>\n",
       "      <td>10013</td>\n",
       "      <td>IAN</td>\n",
       "      <td>M</td>\n",
       "      <td>Unknown</td>\n",
       "      <td>GREYHOUND TER X</td>\n",
       "      <td>WHITE</td>\n",
       "      <td>BLACK</td>\n",
       "      <td>NaN</td>\n",
       "      <td>2006-01-01 00:00:00</td>\n",
       "      <td>Yes</td>\n",
       "      <td>No</td>\n",
       "      <td>Yes</td>\n",
       "      <td>2014-09-12 19:09:19.020</td>\n",
       "      <td>2014-09-12</td>\n",
       "      <td>2019-10-30</td>\n",
       "    </tr>\n",
       "    <tr>\n",
       "      <th>8</th>\n",
       "      <td>10028</td>\n",
       "      <td>Lola</td>\n",
       "      <td>F</td>\n",
       "      <td>Maltese</td>\n",
       "      <td>NaN</td>\n",
       "      <td>Apricot</td>\n",
       "      <td>White</td>\n",
       "      <td>NaN</td>\n",
       "      <td>2009-06-01 00:00:00</td>\n",
       "      <td>Yes</td>\n",
       "      <td>No</td>\n",
       "      <td>Yes</td>\n",
       "      <td>2014-09-12 22:07:33.697</td>\n",
       "      <td>2014-09-12</td>\n",
       "      <td>2017-10-09</td>\n",
       "    </tr>\n",
       "    <tr>\n",
       "      <th>9</th>\n",
       "      <td>11232</td>\n",
       "      <td>muneca</td>\n",
       "      <td>F</td>\n",
       "      <td>Beagle</td>\n",
       "      <td>NaN</td>\n",
       "      <td>White</td>\n",
       "      <td>Black</td>\n",
       "      <td>Brown</td>\n",
       "      <td>2013-05-01 00:00:00</td>\n",
       "      <td>Yes</td>\n",
       "      <td>NaN</td>\n",
       "      <td>Yes</td>\n",
       "      <td>2014-09-13 00:58:36.603</td>\n",
       "      <td>2014-09-13</td>\n",
       "      <td>2019-09-13</td>\n",
       "    </tr>\n",
       "    <tr>\n",
       "      <th>10</th>\n",
       "      <td>10022</td>\n",
       "      <td>Elizabeth</td>\n",
       "      <td>F</td>\n",
       "      <td>Cavalier King Charles Spaniel</td>\n",
       "      <td>NaN</td>\n",
       "      <td>Brown</td>\n",
       "      <td>White</td>\n",
       "      <td>NaN</td>\n",
       "      <td>2013-03-01 00:00:00</td>\n",
       "      <td>Yes</td>\n",
       "      <td>NaN</td>\n",
       "      <td>Yes</td>\n",
       "      <td>2014-09-13 07:07:54.303</td>\n",
       "      <td>2014-09-13</td>\n",
       "      <td>2019-09-13</td>\n",
       "    </tr>\n",
       "    <tr>\n",
       "      <th>11</th>\n",
       "      <td>11209</td>\n",
       "      <td>Benson</td>\n",
       "      <td>M</td>\n",
       "      <td>Boxer</td>\n",
       "      <td>NaN</td>\n",
       "      <td>BRINDLE</td>\n",
       "      <td>NaN</td>\n",
       "      <td>NaN</td>\n",
       "      <td>2010-07-01 00:00:00</td>\n",
       "      <td>Yes</td>\n",
       "      <td>No</td>\n",
       "      <td>Yes</td>\n",
       "      <td>2014-09-13 11:14:34.093</td>\n",
       "      <td>2014-09-13</td>\n",
       "      <td>2019-10-29</td>\n",
       "    </tr>\n",
       "    <tr>\n",
       "      <th>12</th>\n",
       "      <td>10025</td>\n",
       "      <td>Dottie</td>\n",
       "      <td>F</td>\n",
       "      <td>Poodle, Standard</td>\n",
       "      <td>NaN</td>\n",
       "      <td>Cream</td>\n",
       "      <td>NaN</td>\n",
       "      <td>NaN</td>\n",
       "      <td>2013-04-01 00:00:00</td>\n",
       "      <td>Yes</td>\n",
       "      <td>NaN</td>\n",
       "      <td>Yes</td>\n",
       "      <td>2014-09-13 11:28:32.237</td>\n",
       "      <td>2014-09-13</td>\n",
       "      <td>2017-09-13</td>\n",
       "    </tr>\n",
       "    <tr>\n",
       "      <th>13</th>\n",
       "      <td>11215</td>\n",
       "      <td>Lucy Moo Jung</td>\n",
       "      <td>F</td>\n",
       "      <td>Dachshund Smooth Coat Miniature</td>\n",
       "      <td>NaN</td>\n",
       "      <td>White</td>\n",
       "      <td>Black</td>\n",
       "      <td>NaN</td>\n",
       "      <td>2014-03-01 00:00:00</td>\n",
       "      <td>Yes</td>\n",
       "      <td>NaN</td>\n",
       "      <td>Yes</td>\n",
       "      <td>2014-09-13 13:40:23.943</td>\n",
       "      <td>2014-09-13</td>\n",
       "      <td>2019-09-13</td>\n",
       "    </tr>\n",
       "    <tr>\n",
       "      <th>14</th>\n",
       "      <td>10025</td>\n",
       "      <td>Apple Wazowski Panwar</td>\n",
       "      <td>M</td>\n",
       "      <td>Havanese</td>\n",
       "      <td>NaN</td>\n",
       "      <td>WHITE</td>\n",
       "      <td>BLACK</td>\n",
       "      <td>NaN</td>\n",
       "      <td>2013-07-01 00:00:00</td>\n",
       "      <td>Yes</td>\n",
       "      <td>No</td>\n",
       "      <td>No</td>\n",
       "      <td>2014-09-13 14:13:16.553</td>\n",
       "      <td>2014-09-13</td>\n",
       "      <td>2019-10-16</td>\n",
       "    </tr>\n",
       "    <tr>\n",
       "      <th>15</th>\n",
       "      <td>10312</td>\n",
       "      <td>Buddy</td>\n",
       "      <td>M</td>\n",
       "      <td>Bull Terrier</td>\n",
       "      <td>NaN</td>\n",
       "      <td>BLACK</td>\n",
       "      <td>WHITE</td>\n",
       "      <td>NaN</td>\n",
       "      <td>2012-10-01 00:00:00</td>\n",
       "      <td>Yes</td>\n",
       "      <td>No</td>\n",
       "      <td>Yes</td>\n",
       "      <td>2014-09-13 14:23:18.100</td>\n",
       "      <td>2014-09-13</td>\n",
       "      <td>2019-10-05</td>\n",
       "    </tr>\n",
       "    <tr>\n",
       "      <th>16</th>\n",
       "      <td>11220</td>\n",
       "      <td>Ricky</td>\n",
       "      <td>M</td>\n",
       "      <td>German Shepherd Dog</td>\n",
       "      <td>NaN</td>\n",
       "      <td>Black</td>\n",
       "      <td>Tan</td>\n",
       "      <td>NaN</td>\n",
       "      <td>2014-07-01 00:00:00</td>\n",
       "      <td>No</td>\n",
       "      <td>NaN</td>\n",
       "      <td>No</td>\n",
       "      <td>2014-09-13 15:40:08.160</td>\n",
       "      <td>2014-09-13</td>\n",
       "      <td>2017-09-13</td>\n",
       "    </tr>\n",
       "    <tr>\n",
       "      <th>17</th>\n",
       "      <td>10002</td>\n",
       "      <td>Avery</td>\n",
       "      <td>F</td>\n",
       "      <td>American Pit Bull Terrier/Pit Bull</td>\n",
       "      <td>NaN</td>\n",
       "      <td>Gray</td>\n",
       "      <td>NaN</td>\n",
       "      <td>NaN</td>\n",
       "      <td>2014-06-01 00:00:00</td>\n",
       "      <td>No</td>\n",
       "      <td>NaN</td>\n",
       "      <td>No</td>\n",
       "      <td>2014-09-13 15:55:11.457</td>\n",
       "      <td>2014-09-13</td>\n",
       "      <td>2019-09-13</td>\n",
       "    </tr>\n",
       "    <tr>\n",
       "      <th>18</th>\n",
       "      <td>10025</td>\n",
       "      <td>Sarah</td>\n",
       "      <td>F</td>\n",
       "      <td>Unknown</td>\n",
       "      <td>Boxer/Pharaoh Hound/Other</td>\n",
       "      <td>Brindle</td>\n",
       "      <td>NaN</td>\n",
       "      <td>NaN</td>\n",
       "      <td>2012-12-01 00:00:00</td>\n",
       "      <td>Yes</td>\n",
       "      <td>NaN</td>\n",
       "      <td>Yes</td>\n",
       "      <td>2014-09-13 16:03:32.067</td>\n",
       "      <td>2014-09-13</td>\n",
       "      <td>2017-09-13</td>\n",
       "    </tr>\n",
       "    <tr>\n",
       "      <th>19</th>\n",
       "      <td>10308</td>\n",
       "      <td>Sophie</td>\n",
       "      <td>F</td>\n",
       "      <td>Boxer</td>\n",
       "      <td>NaN</td>\n",
       "      <td>BROWN</td>\n",
       "      <td>BRINDLE</td>\n",
       "      <td>NaN</td>\n",
       "      <td>2011-09-01 00:00:00</td>\n",
       "      <td>Yes</td>\n",
       "      <td>No</td>\n",
       "      <td>Yes</td>\n",
       "      <td>2014-09-13 16:03:55.300</td>\n",
       "      <td>2014-09-13</td>\n",
       "      <td>2019-10-23</td>\n",
       "    </tr>\n",
       "    <tr>\n",
       "      <th>20</th>\n",
       "      <td>11201</td>\n",
       "      <td>Massimo</td>\n",
       "      <td>M</td>\n",
       "      <td>Bull Dog, French</td>\n",
       "      <td>NaN</td>\n",
       "      <td>WHITE</td>\n",
       "      <td>BLACK</td>\n",
       "      <td>NaN</td>\n",
       "      <td>2009-07-01 00:00:00</td>\n",
       "      <td>Yes</td>\n",
       "      <td>No</td>\n",
       "      <td>Yes</td>\n",
       "      <td>2014-09-13 16:16:53.533</td>\n",
       "      <td>2014-09-13</td>\n",
       "      <td>2017-09-17</td>\n",
       "    </tr>\n",
       "    <tr>\n",
       "      <th>21</th>\n",
       "      <td>11218</td>\n",
       "      <td>Bess Walker</td>\n",
       "      <td>F</td>\n",
       "      <td>Beagle</td>\n",
       "      <td>NaN</td>\n",
       "      <td>BLACK</td>\n",
       "      <td>BROWN</td>\n",
       "      <td>WHITE</td>\n",
       "      <td>2010-09-01 00:00:00</td>\n",
       "      <td>Yes</td>\n",
       "      <td>No</td>\n",
       "      <td>Yes</td>\n",
       "      <td>2014-09-13 16:48:52.177</td>\n",
       "      <td>2014-09-13</td>\n",
       "      <td>2016-09-13</td>\n",
       "    </tr>\n",
       "    <tr>\n",
       "      <th>22</th>\n",
       "      <td>11208</td>\n",
       "      <td>Bigs</td>\n",
       "      <td>M</td>\n",
       "      <td>American Pit Bull Terrier/Pit Bull</td>\n",
       "      <td>NaN</td>\n",
       "      <td>BROWN</td>\n",
       "      <td>WHITE</td>\n",
       "      <td>NaN</td>\n",
       "      <td>2004-12-01 00:00:00</td>\n",
       "      <td>Yes</td>\n",
       "      <td>No</td>\n",
       "      <td>Yes</td>\n",
       "      <td>2014-09-13 17:27:27.300</td>\n",
       "      <td>2014-09-13</td>\n",
       "      <td>2019-10-27</td>\n",
       "    </tr>\n",
       "    <tr>\n",
       "      <th>23</th>\n",
       "      <td>10003</td>\n",
       "      <td>Lemmy</td>\n",
       "      <td>F</td>\n",
       "      <td>Yorkshire Terrier</td>\n",
       "      <td>NaN</td>\n",
       "      <td>BLOND</td>\n",
       "      <td>GRAY</td>\n",
       "      <td>NaN</td>\n",
       "      <td>2005-07-01 00:00:00</td>\n",
       "      <td>Yes</td>\n",
       "      <td>No</td>\n",
       "      <td>Yes</td>\n",
       "      <td>2014-09-13 18:07:38.363</td>\n",
       "      <td>2014-09-13</td>\n",
       "      <td>2017-10-26</td>\n",
       "    </tr>\n",
       "    <tr>\n",
       "      <th>24</th>\n",
       "      <td>11238</td>\n",
       "      <td>June Bug</td>\n",
       "      <td>F</td>\n",
       "      <td>Cavalier King Charles Spaniel</td>\n",
       "      <td>NaN</td>\n",
       "      <td>WHITE</td>\n",
       "      <td>BLACK</td>\n",
       "      <td>BROWN</td>\n",
       "      <td>2010-04-01 00:00:00</td>\n",
       "      <td>Yes</td>\n",
       "      <td>No</td>\n",
       "      <td>Yes</td>\n",
       "      <td>2014-09-13 18:44:29.190</td>\n",
       "      <td>2014-09-13</td>\n",
       "      <td>2019-10-28</td>\n",
       "    </tr>\n",
       "    <tr>\n",
       "      <th>25</th>\n",
       "      <td>10463</td>\n",
       "      <td>Murphy</td>\n",
       "      <td>M</td>\n",
       "      <td>American Pit Bull Mix / Pit Bull Mix</td>\n",
       "      <td>NaN</td>\n",
       "      <td>BROWN</td>\n",
       "      <td>WHITE</td>\n",
       "      <td>NaN</td>\n",
       "      <td>2012-01-01 00:00:00</td>\n",
       "      <td>Yes</td>\n",
       "      <td>No</td>\n",
       "      <td>Yes</td>\n",
       "      <td>2014-09-13 18:47:48.517</td>\n",
       "      <td>2014-09-13</td>\n",
       "      <td>2017-09-28</td>\n",
       "    </tr>\n",
       "    <tr>\n",
       "      <th>26</th>\n",
       "      <td>11215</td>\n",
       "      <td>HEIDI-BO</td>\n",
       "      <td>F</td>\n",
       "      <td>Dachshund Smooth Coat</td>\n",
       "      <td>NaN</td>\n",
       "      <td>Brown</td>\n",
       "      <td>Black</td>\n",
       "      <td>NaN</td>\n",
       "      <td>2007-09-01 00:00:00</td>\n",
       "      <td>Yes</td>\n",
       "      <td>No</td>\n",
       "      <td>Yes</td>\n",
       "      <td>2014-09-13 20:23:46.393</td>\n",
       "      <td>2014-09-13</td>\n",
       "      <td>2017-04-16</td>\n",
       "    </tr>\n",
       "    <tr>\n",
       "      <th>27</th>\n",
       "      <td>10011</td>\n",
       "      <td>OTIS</td>\n",
       "      <td>F</td>\n",
       "      <td>Unknown</td>\n",
       "      <td>SEALYHAM TERR</td>\n",
       "      <td>WHITE</td>\n",
       "      <td>BLACK</td>\n",
       "      <td>NaN</td>\n",
       "      <td>2001-01-01 00:00:00</td>\n",
       "      <td>Yes</td>\n",
       "      <td>No</td>\n",
       "      <td>Yes</td>\n",
       "      <td>2014-09-13 20:44:24.550</td>\n",
       "      <td>2014-09-13</td>\n",
       "      <td>2017-09-29</td>\n",
       "    </tr>\n",
       "    <tr>\n",
       "      <th>28</th>\n",
       "      <td>10011</td>\n",
       "      <td>Logan</td>\n",
       "      <td>M</td>\n",
       "      <td>Unknown</td>\n",
       "      <td>SealyhamTerrier</td>\n",
       "      <td>WHITE</td>\n",
       "      <td>BROWN</td>\n",
       "      <td>NaN</td>\n",
       "      <td>2003-01-01 00:00:00</td>\n",
       "      <td>Yes</td>\n",
       "      <td>No</td>\n",
       "      <td>No</td>\n",
       "      <td>2014-09-13 20:44:24.613</td>\n",
       "      <td>2014-09-13</td>\n",
       "      <td>2017-10-30</td>\n",
       "    </tr>\n",
       "    <tr>\n",
       "      <th>29</th>\n",
       "      <td>10022</td>\n",
       "      <td>Lola</td>\n",
       "      <td>F</td>\n",
       "      <td>Miniature Pinscher</td>\n",
       "      <td>NaN</td>\n",
       "      <td>BLACK</td>\n",
       "      <td>RUST</td>\n",
       "      <td>NaN</td>\n",
       "      <td>2006-08-01 00:00:00</td>\n",
       "      <td>Yes</td>\n",
       "      <td>No</td>\n",
       "      <td>Yes</td>\n",
       "      <td>2015-03-23 11:39:28.063</td>\n",
       "      <td>2014-09-13</td>\n",
       "      <td>2019-10-03</td>\n",
       "    </tr>\n",
       "  </tbody>\n",
       "</table>\n",
       "</div>"
      ],
      "text/plain": [
       "    zipcode                   name gender  \\\n",
       "0     10013                  Bilal      M   \n",
       "1     10025                  Buddy      M   \n",
       "2     10013                    Ali      M   \n",
       "3     10013                  Queen      F   \n",
       "4     10035       Paige Sable Orta      F   \n",
       "5     10465                   Yogi      M   \n",
       "6     10013              Chewbacca      F   \n",
       "7     10013             IAN             M   \n",
       "8     10028                   Lola      F   \n",
       "9     11232                 muneca      F   \n",
       "10    10022              Elizabeth      F   \n",
       "11    11209                 Benson      M   \n",
       "12    10025                 Dottie      F   \n",
       "13    11215          Lucy Moo Jung      F   \n",
       "14    10025  Apple Wazowski Panwar      M   \n",
       "15    10312                  Buddy      M   \n",
       "16    11220                  Ricky      M   \n",
       "17    10002                  Avery      F   \n",
       "18    10025                  Sarah      F   \n",
       "19    10308                 Sophie      F   \n",
       "20    11201                Massimo      M   \n",
       "21    11218            Bess Walker      F   \n",
       "22    11208                   Bigs      M   \n",
       "23    10003                  Lemmy      F   \n",
       "24    11238               June Bug      F   \n",
       "25    10463                 Murphy      M   \n",
       "26    11215               HEIDI-BO      F   \n",
       "27    10011             OTIS            F   \n",
       "28    10011               Logan         M   \n",
       "29    10022                   Lola      F   \n",
       "\n",
       "                                  breed1                     breed2    color1  \\\n",
       "0                   Australian Cattledog                        NaN      Rust   \n",
       "1                                Unknown                   Cockapoo     BLOND   \n",
       "2                                Basenji                        NaN     Black   \n",
       "3                       Akita Crossbreed                        NaN  Charcoal   \n",
       "4   American Pit Bull Mix / Pit Bull Mix                        NaN     White   \n",
       "5                                  Boxer                        NaN       TAN   \n",
       "6          Labrador Retriever Crossbreed                        NaN       RED   \n",
       "7                                Unknown            GREYHOUND TER X     WHITE   \n",
       "8                                Maltese                        NaN   Apricot   \n",
       "9                                 Beagle                        NaN     White   \n",
       "10         Cavalier King Charles Spaniel                        NaN     Brown   \n",
       "11                                 Boxer                        NaN   BRINDLE   \n",
       "12                      Poodle, Standard                        NaN     Cream   \n",
       "13       Dachshund Smooth Coat Miniature                        NaN     White   \n",
       "14                              Havanese                        NaN     WHITE   \n",
       "15                          Bull Terrier                        NaN     BLACK   \n",
       "16                   German Shepherd Dog                        NaN     Black   \n",
       "17    American Pit Bull Terrier/Pit Bull                        NaN      Gray   \n",
       "18                               Unknown  Boxer/Pharaoh Hound/Other   Brindle   \n",
       "19                                 Boxer                        NaN     BROWN   \n",
       "20                      Bull Dog, French                        NaN     WHITE   \n",
       "21                                Beagle                        NaN     BLACK   \n",
       "22    American Pit Bull Terrier/Pit Bull                        NaN     BROWN   \n",
       "23                     Yorkshire Terrier                        NaN     BLOND   \n",
       "24         Cavalier King Charles Spaniel                        NaN     WHITE   \n",
       "25  American Pit Bull Mix / Pit Bull Mix                        NaN     BROWN   \n",
       "26                 Dachshund Smooth Coat                        NaN     Brown   \n",
       "27                               Unknown            SEALYHAM TERR       WHITE   \n",
       "28                               Unknown            SealyhamTerrier     WHITE   \n",
       "29                    Miniature Pinscher                        NaN     BLACK   \n",
       "\n",
       "     color2 color3                birth fixed trained vaccinated  \\\n",
       "0       NaN    NaN  2014-09-01 00:00:00   Yes     NaN         No   \n",
       "1     WHITE    NaN  2008-04-01 00:00:00   Yes      No        Yes   \n",
       "2       NaN    NaN  2014-01-01 00:00:00    No     NaN         No   \n",
       "3       Red    NaN  2013-04-01 00:00:00    No     NaN        Yes   \n",
       "4      Gray    NaN  2014-07-01 00:00:00    No     NaN         No   \n",
       "5     BLACK    NaN  2010-09-01 00:00:00   Yes      No        Yes   \n",
       "6       NaN    NaN  2012-06-01 00:00:00   Yes      No        Yes   \n",
       "7     BLACK    NaN  2006-01-01 00:00:00   Yes      No        Yes   \n",
       "8     White    NaN  2009-06-01 00:00:00   Yes      No        Yes   \n",
       "9     Black  Brown  2013-05-01 00:00:00   Yes     NaN        Yes   \n",
       "10    White    NaN  2013-03-01 00:00:00   Yes     NaN        Yes   \n",
       "11      NaN    NaN  2010-07-01 00:00:00   Yes      No        Yes   \n",
       "12      NaN    NaN  2013-04-01 00:00:00   Yes     NaN        Yes   \n",
       "13    Black    NaN  2014-03-01 00:00:00   Yes     NaN        Yes   \n",
       "14    BLACK    NaN  2013-07-01 00:00:00   Yes      No         No   \n",
       "15    WHITE    NaN  2012-10-01 00:00:00   Yes      No        Yes   \n",
       "16      Tan    NaN  2014-07-01 00:00:00    No     NaN         No   \n",
       "17      NaN    NaN  2014-06-01 00:00:00    No     NaN         No   \n",
       "18      NaN    NaN  2012-12-01 00:00:00   Yes     NaN        Yes   \n",
       "19  BRINDLE    NaN  2011-09-01 00:00:00   Yes      No        Yes   \n",
       "20    BLACK    NaN  2009-07-01 00:00:00   Yes      No        Yes   \n",
       "21    BROWN  WHITE  2010-09-01 00:00:00   Yes      No        Yes   \n",
       "22    WHITE    NaN  2004-12-01 00:00:00   Yes      No        Yes   \n",
       "23     GRAY    NaN  2005-07-01 00:00:00   Yes      No        Yes   \n",
       "24    BLACK  BROWN  2010-04-01 00:00:00   Yes      No        Yes   \n",
       "25    WHITE    NaN  2012-01-01 00:00:00   Yes      No        Yes   \n",
       "26    Black    NaN  2007-09-01 00:00:00   Yes      No        Yes   \n",
       "27    BLACK    NaN  2001-01-01 00:00:00   Yes      No        Yes   \n",
       "28    BROWN    NaN  2003-01-01 00:00:00   Yes      No         No   \n",
       "29     RUST    NaN  2006-08-01 00:00:00   Yes      No        Yes   \n",
       "\n",
       "                  app_date   lic_date   exp_date  \n",
       "0  2014-09-12 13:13:36.713 2014-09-12 2019-09-12  \n",
       "1  2014-09-12 15:26:51.417 2014-09-12 2017-10-20  \n",
       "2  2014-09-12 15:43:17.707 2014-09-12 2019-09-12  \n",
       "3  2014-09-12 16:14:48.487 2014-09-12 2017-09-12  \n",
       "4  2014-09-12 16:22:54.113 2014-09-12 2017-09-12  \n",
       "5  2014-09-12 16:47:35.317 2014-09-12 2017-10-02  \n",
       "6  2014-09-12 17:42:56.647 2014-09-12 2019-10-01  \n",
       "7  2014-09-12 19:09:19.020 2014-09-12 2019-10-30  \n",
       "8  2014-09-12 22:07:33.697 2014-09-12 2017-10-09  \n",
       "9  2014-09-13 00:58:36.603 2014-09-13 2019-09-13  \n",
       "10 2014-09-13 07:07:54.303 2014-09-13 2019-09-13  \n",
       "11 2014-09-13 11:14:34.093 2014-09-13 2019-10-29  \n",
       "12 2014-09-13 11:28:32.237 2014-09-13 2017-09-13  \n",
       "13 2014-09-13 13:40:23.943 2014-09-13 2019-09-13  \n",
       "14 2014-09-13 14:13:16.553 2014-09-13 2019-10-16  \n",
       "15 2014-09-13 14:23:18.100 2014-09-13 2019-10-05  \n",
       "16 2014-09-13 15:40:08.160 2014-09-13 2017-09-13  \n",
       "17 2014-09-13 15:55:11.457 2014-09-13 2019-09-13  \n",
       "18 2014-09-13 16:03:32.067 2014-09-13 2017-09-13  \n",
       "19 2014-09-13 16:03:55.300 2014-09-13 2019-10-23  \n",
       "20 2014-09-13 16:16:53.533 2014-09-13 2017-09-17  \n",
       "21 2014-09-13 16:48:52.177 2014-09-13 2016-09-13  \n",
       "22 2014-09-13 17:27:27.300 2014-09-13 2019-10-27  \n",
       "23 2014-09-13 18:07:38.363 2014-09-13 2017-10-26  \n",
       "24 2014-09-13 18:44:29.190 2014-09-13 2019-10-28  \n",
       "25 2014-09-13 18:47:48.517 2014-09-13 2017-09-28  \n",
       "26 2014-09-13 20:23:46.393 2014-09-13 2017-04-16  \n",
       "27 2014-09-13 20:44:24.550 2014-09-13 2017-09-29  \n",
       "28 2014-09-13 20:44:24.613 2014-09-13 2017-10-30  \n",
       "29 2015-03-23 11:39:28.063 2014-09-13 2019-10-03  "
      ]
     },
     "execution_count": 16,
     "metadata": {},
     "output_type": "execute_result"
    }
   ],
   "source": [
    "p.head(30)"
   ]
  },
  {
   "cell_type": "markdown",
   "metadata": {},
   "source": [
    "Since these are mostly categorical/string values, most of what we want to do will be *tabulation*.  The `.value_counts()` method tabulates a Series ... (ordered from most to least column)"
   ]
  },
  {
   "cell_type": "code",
   "execution_count": 18,
   "metadata": {
    "collapsed": false
   },
   "outputs": [
    {
     "name": "stdout",
     "output_type": "stream",
     "text": [
      "81944\n"
     ]
    },
    {
     "data": {
      "text/plain": [
       "Unknown              12898\n",
       "Yorkshire Terrier     5133\n",
       "Shih Tzu              4727\n",
       "Chihuahua             3924\n",
       "Maltese               2965\n",
       "Name: breed1, dtype: int64"
      ]
     },
     "execution_count": 18,
     "metadata": {},
     "output_type": "execute_result"
    }
   ],
   "source": [
    "print(len(p.breed1))\n",
    "breedtab0 = p.breed1.value_counts()\n",
    "breedtab0.head()"
   ]
  },
  {
   "cell_type": "markdown",
   "metadata": {},
   "source": [
    "Let's make a barplot of the results:"
   ]
  },
  {
   "cell_type": "code",
   "execution_count": 19,
   "metadata": {
    "collapsed": false,
    "scrolled": true
   },
   "outputs": [
    {
     "data": {
      "image/png": "[encoded data removed]",
      "text/plain": [
       "<matplotlib.figure.Figure at 0x1049583c8>"
      ]
     },
     "metadata": {},
     "output_type": "display_data"
    }
   ],
   "source": [
    "\n",
    "%matplotlib inline\n",
    "plt.bar(np.arange(len(breedtab0)),height=breedtab0);"
   ]
  },
  {
   "cell_type": "markdown",
   "metadata": {},
   "source": [
    "Not so useful. Plot just the most common breeds? (Drop the most common/first, which is \"Unknown\")"
   ]
  },
  {
   "cell_type": "code",
   "execution_count": 22,
   "metadata": {
    "collapsed": false,
    "scrolled": true
   },
   "outputs": [
    {
     "data": {
      "image/png": "[encoded data removed]",
      "text/plain": [
       "<matplotlib.figure.Figure at 0x113016320>"
      ]
     },
     "metadata": {},
     "output_type": "display_data"
    }
   ],
   "source": [
    "bc2 = breedtab0.iloc[1:50]\n",
    "pos = np.arange(len(bc2))\n",
    "plt.bar(pos,height=bc2)\n",
    "plt.xticks(pos,bc2.index);  ## breed names as tick labels"
   ]
  },
  {
   "cell_type": "markdown",
   "metadata": {},
   "source": [
    "a good start, but ugly.  We could play with rotating breed names, but an alternative solution is to rotate the whole graph, so that horizontal labels will fit. We can do this with `plt.barh`."
   ]
  },
  {
   "cell_type": "code",
   "execution_count": 23,
   "metadata": {
    "collapsed": false
   },
   "outputs": [
    {
     "data": {
      "image/png": "[encoded data removed]",
      "text/plain": [
       "<matplotlib.figure.Figure at 0x1157a6128>"
      ]
     },
     "metadata": {},
     "output_type": "display_data"
    }
   ],
   "source": [
    "plt.barh(pos,width=bc2,align=\"center\");\n",
    "plt.yticks(pos,bc2.index);"
   ]
  },
  {
   "cell_type": "markdown",
   "metadata": {},
   "source": [
    "Now we want to try *cross-tabulating* with the `.crosstab` method. `index` variable gives the rows, `columns` variable gives the columns"
   ]
  },
  {
   "cell_type": "code",
   "execution_count": 24,
   "metadata": {
    "collapsed": false
   },
   "outputs": [
    {
     "data": {
      "text/html": [
       "<div>\n",
       "<table border=\"1\" class=\"dataframe\">\n",
       "  <thead>\n",
       "    <tr style=\"text-align: right;\">\n",
       "      <th>gender</th>\n",
       "      <th></th>\n",
       "      <th>F</th>\n",
       "      <th>M</th>\n",
       "    </tr>\n",
       "    <tr>\n",
       "      <th>breed1</th>\n",
       "      <th></th>\n",
       "      <th></th>\n",
       "      <th></th>\n",
       "    </tr>\n",
       "  </thead>\n",
       "  <tbody>\n",
       "    <tr>\n",
       "      <th>Affenpinscher</th>\n",
       "      <td>0</td>\n",
       "      <td>7</td>\n",
       "      <td>13</td>\n",
       "    </tr>\n",
       "    <tr>\n",
       "      <th>Afghan Hound</th>\n",
       "      <td>0</td>\n",
       "      <td>6</td>\n",
       "      <td>8</td>\n",
       "    </tr>\n",
       "    <tr>\n",
       "      <th>Airedale Terrier</th>\n",
       "      <td>0</td>\n",
       "      <td>13</td>\n",
       "      <td>16</td>\n",
       "    </tr>\n",
       "    <tr>\n",
       "      <th>Akita</th>\n",
       "      <td>0</td>\n",
       "      <td>38</td>\n",
       "      <td>60</td>\n",
       "    </tr>\n",
       "    <tr>\n",
       "      <th>Akita Crossbreed</th>\n",
       "      <td>0</td>\n",
       "      <td>15</td>\n",
       "      <td>26</td>\n",
       "    </tr>\n",
       "  </tbody>\n",
       "</table>\n",
       "</div>"
      ],
      "text/plain": [
       "gender                F   M\n",
       "breed1                     \n",
       "Affenpinscher     0   7  13\n",
       "Afghan Hound      0   6   8\n",
       "Airedale Terrier  0  13  16\n",
       "Akita             0  38  60\n",
       "Akita Crossbreed  0  15  26"
      ]
     },
     "execution_count": 24,
     "metadata": {},
     "output_type": "execute_result"
    }
   ],
   "source": [
    "breedtab1 = pd.crosstab(index=p.breed1,columns=p.gender)\n",
    "breedtab1.head()\n"
   ]
  },
  {
   "cell_type": "markdown",
   "metadata": {},
   "source": [
    "what if I want to sort from most to least common breed overall? One way to do this is to add the breed table back to this table, then sort (`reindex` is an alternative ...)"
   ]
  },
  {
   "cell_type": "code",
   "execution_count": 25,
   "metadata": {
    "collapsed": false
   },
   "outputs": [
    {
     "data": {
      "text/html": [
       "<div>\n",
       "<table border=\"1\" class=\"dataframe\">\n",
       "  <thead>\n",
       "    <tr style=\"text-align: right;\">\n",
       "      <th>gender</th>\n",
       "      <th></th>\n",
       "      <th>F</th>\n",
       "      <th>M</th>\n",
       "      <th>breed1</th>\n",
       "    </tr>\n",
       "    <tr>\n",
       "      <th>breed1</th>\n",
       "      <th></th>\n",
       "      <th></th>\n",
       "      <th></th>\n",
       "      <th></th>\n",
       "    </tr>\n",
       "  </thead>\n",
       "  <tbody>\n",
       "    <tr>\n",
       "      <th>Affenpinscher</th>\n",
       "      <td>0</td>\n",
       "      <td>7</td>\n",
       "      <td>13</td>\n",
       "      <td>20</td>\n",
       "    </tr>\n",
       "    <tr>\n",
       "      <th>Afghan Hound</th>\n",
       "      <td>0</td>\n",
       "      <td>6</td>\n",
       "      <td>8</td>\n",
       "      <td>14</td>\n",
       "    </tr>\n",
       "    <tr>\n",
       "      <th>Airedale Terrier</th>\n",
       "      <td>0</td>\n",
       "      <td>13</td>\n",
       "      <td>16</td>\n",
       "      <td>29</td>\n",
       "    </tr>\n",
       "    <tr>\n",
       "      <th>Akita</th>\n",
       "      <td>0</td>\n",
       "      <td>38</td>\n",
       "      <td>60</td>\n",
       "      <td>98</td>\n",
       "    </tr>\n",
       "    <tr>\n",
       "      <th>Akita Crossbreed</th>\n",
       "      <td>0</td>\n",
       "      <td>15</td>\n",
       "      <td>26</td>\n",
       "      <td>41</td>\n",
       "    </tr>\n",
       "  </tbody>\n",
       "</table>\n",
       "</div>"
      ],
      "text/plain": [
       "gender                F   M  breed1\n",
       "breed1                             \n",
       "Affenpinscher     0   7  13      20\n",
       "Afghan Hound      0   6   8      14\n",
       "Airedale Terrier  0  13  16      29\n",
       "Akita             0  38  60      98\n",
       "Akita Crossbreed  0  15  26      41"
      ]
     },
     "execution_count": 25,
     "metadata": {},
     "output_type": "execute_result"
    }
   ],
   "source": [
    "breedtab2 = breedtab1.join(breedtab0)\n",
    "breedtab2.head()"
   ]
  },
  {
   "cell_type": "code",
   "execution_count": 26,
   "metadata": {
    "collapsed": false,
    "scrolled": true
   },
   "outputs": [
    {
     "data": {
      "text/html": [
       "<div>\n",
       "<table border=\"1\" class=\"dataframe\">\n",
       "  <thead>\n",
       "    <tr style=\"text-align: right;\">\n",
       "      <th>gender</th>\n",
       "      <th></th>\n",
       "      <th>F</th>\n",
       "      <th>M</th>\n",
       "      <th>breed1</th>\n",
       "    </tr>\n",
       "    <tr>\n",
       "      <th>breed1</th>\n",
       "      <th></th>\n",
       "      <th></th>\n",
       "      <th></th>\n",
       "      <th></th>\n",
       "    </tr>\n",
       "  </thead>\n",
       "  <tbody>\n",
       "    <tr>\n",
       "      <th>Unknown</th>\n",
       "      <td>2</td>\n",
       "      <td>6268</td>\n",
       "      <td>6628</td>\n",
       "      <td>12898</td>\n",
       "    </tr>\n",
       "    <tr>\n",
       "      <th>Yorkshire Terrier</th>\n",
       "      <td>1</td>\n",
       "      <td>2233</td>\n",
       "      <td>2899</td>\n",
       "      <td>5133</td>\n",
       "    </tr>\n",
       "    <tr>\n",
       "      <th>Shih Tzu</th>\n",
       "      <td>1</td>\n",
       "      <td>2029</td>\n",
       "      <td>2697</td>\n",
       "      <td>4727</td>\n",
       "    </tr>\n",
       "    <tr>\n",
       "      <th>Chihuahua</th>\n",
       "      <td>0</td>\n",
       "      <td>1847</td>\n",
       "      <td>2077</td>\n",
       "      <td>3924</td>\n",
       "    </tr>\n",
       "    <tr>\n",
       "      <th>Maltese</th>\n",
       "      <td>1</td>\n",
       "      <td>1283</td>\n",
       "      <td>1681</td>\n",
       "      <td>2965</td>\n",
       "    </tr>\n",
       "  </tbody>\n",
       "</table>\n",
       "</div>"
      ],
      "text/plain": [
       "gender                   F     M  breed1\n",
       "breed1                                  \n",
       "Unknown            2  6268  6628   12898\n",
       "Yorkshire Terrier  1  2233  2899    5133\n",
       "Shih Tzu           1  2029  2697    4727\n",
       "Chihuahua          0  1847  2077    3924\n",
       "Maltese            1  1283  1681    2965"
      ]
     },
     "execution_count": 26,
     "metadata": {},
     "output_type": "execute_result"
    }
   ],
   "source": [
    "breedtab2 = breedtab2.sort_values(by=\"breed1\",ascending=False)\n",
    "breedtab2.head()"
   ]
  },
  {
   "cell_type": "markdown",
   "metadata": {},
   "source": [
    "Now let's look at a subset of the data"
   ]
  },
  {
   "cell_type": "code",
   "execution_count": 27,
   "metadata": {
    "collapsed": true
   },
   "outputs": [],
   "source": [
    "r = p.loc[p.breed1==\"Rottweiler\",:]"
   ]
  },
  {
   "cell_type": "markdown",
   "metadata": {},
   "source": [
    "how many rows and columns?"
   ]
  },
  {
   "cell_type": "code",
   "execution_count": 28,
   "metadata": {
    "collapsed": false
   },
   "outputs": [
    {
     "data": {
      "text/plain": [
       "(467, 15)"
      ]
     },
     "execution_count": 28,
     "metadata": {},
     "output_type": "execute_result"
    }
   ],
   "source": [
    "r.shape"
   ]
  },
  {
   "cell_type": "code",
   "execution_count": 29,
   "metadata": {
    "collapsed": false
   },
   "outputs": [
    {
     "data": {
      "text/plain": [
       "Rocky     10\n",
       "Roxy       6\n",
       "Max        5\n",
       "Tyson      5\n",
       "Sasha      5\n",
       "Samson     4\n",
       "Rex        4\n",
       "Bella      4\n",
       "Bear       3\n",
       "max        3\n",
       "LOLA       3\n",
       "Ruby       3\n",
       "Apollo     3\n",
       "Missy      2\n",
       "samson     2\n",
       "Troy       2\n",
       "Freya      2\n",
       "Lady       2\n",
       "Zoey       2\n",
       "Luna       2\n",
       "Name: name, dtype: int64"
      ]
     },
     "execution_count": 29,
     "metadata": {},
     "output_type": "execute_result"
    }
   ],
   "source": [
    "r.name.value_counts().head(20)"
   ]
  },
  {
   "cell_type": "markdown",
   "metadata": {},
   "source": [
    "Note that we have both \"LOLA\" and \"Lola\". `str.title()` converts strings to \"title case\" (first letter uppercase, rest lowercase)"
   ]
  },
  {
   "cell_type": "code",
   "execution_count": 30,
   "metadata": {
    "collapsed": false
   },
   "outputs": [
    {
     "data": {
      "text/plain": [
       "Rocky      12\n",
       "Max         9\n",
       "Roxy        7\n",
       "Samson      6\n",
       "Sasha       5\n",
       "Bear        5\n",
       "Tyson       5\n",
       "Lola        5\n",
       "Rex         4\n",
       "Apollo      4\n",
       "Bella       4\n",
       "Chloe       3\n",
       "Ruby        3\n",
       "Kuma        2\n",
       "Freya       2\n",
       "Layla       2\n",
       "Maximus     2\n",
       "Ava         2\n",
       "King        2\n",
       "Missy       2\n",
       "Name: name, dtype: int64"
      ]
     },
     "execution_count": 30,
     "metadata": {},
     "output_type": "execute_result"
    }
   ],
   "source": [
    "r.name.str.title().value_counts().head(20)"
   ]
  },
  {
   "cell_type": "code",
   "execution_count": 31,
   "metadata": {
    "collapsed": false,
    "scrolled": true
   },
   "outputs": [
    {
     "data": {
      "text/plain": [
       "black      447\n",
       "brown       12\n",
       "tan          3\n",
       "brindle      2\n",
       "red          1\n",
       "Name: color1, dtype: int64"
      ]
     },
     "execution_count": 31,
     "metadata": {},
     "output_type": "execute_result"
    }
   ],
   "source": [
    "r.color1.str.lower().value_counts().head()"
   ]
  },
  {
   "cell_type": "markdown",
   "metadata": {},
   "source": [
    "## Web scraping\n",
    "\n",
    "Sometimes there's information we want, but it's embedded on a web page, for example [this chart of dog breed weights](https://www.petcarerx.com/article/dog-breed-weight-chart/267). pandas has a `read_html` function that tries to find tables inside a web page ..."
   ]
  },
  {
   "cell_type": "code",
   "execution_count": 36,
   "metadata": {
    "collapsed": false,
    "scrolled": true
   },
   "outputs": [
    {
     "ename": "ImportError",
     "evalue": "html5lib not found, please install it",
     "output_type": "error",
     "traceback": [
      "\u001b[0;31m---------------------------------------------------------------------------\u001b[0m",
      "\u001b[0;31mImportError\u001b[0m                               Traceback (most recent call last)",
      "\u001b[0;32m<ipython-input-36-2024120d34b1>\u001b[0m in \u001b[0;36m<module>\u001b[0;34m()\u001b[0m\n\u001b[1;32m      1\u001b[0m \u001b[0mdog_wt_url\u001b[0m \u001b[0;34m=\u001b[0m \u001b[0;34m\"https://www.petcarerx.com/article/dog-breed-weight-chart/267\"\u001b[0m\u001b[0;34m\u001b[0m\u001b[0m\n\u001b[0;32m----> 2\u001b[0;31m \u001b[0mrr\u001b[0m \u001b[0;34m=\u001b[0m \u001b[0mpd\u001b[0m\u001b[0;34m.\u001b[0m\u001b[0mread_html\u001b[0m\u001b[0;34m(\u001b[0m\u001b[0mdog_wt_url\u001b[0m\u001b[0;34m)\u001b[0m\u001b[0;34m\u001b[0m\u001b[0m\n\u001b[0m",
      "\u001b[0;32m/Users/bolker/anaconda/lib/python3.5/site-packages/pandas/io/html.py\u001b[0m in \u001b[0;36mread_html\u001b[0;34m(io, match, flavor, header, index_col, skiprows, attrs, parse_dates, tupleize_cols, thousands, encoding)\u001b[0m\n\u001b[1;32m    872\u001b[0m     \u001b[0m_validate_header_arg\u001b[0m\u001b[0;34m(\u001b[0m\u001b[0mheader\u001b[0m\u001b[0;34m)\u001b[0m\u001b[0;34m\u001b[0m\u001b[0m\n\u001b[1;32m    873\u001b[0m     return _parse(flavor, io, match, header, index_col, skiprows,\n\u001b[0;32m--> 874\u001b[0;31m                   parse_dates, tupleize_cols, thousands, attrs, encoding)\n\u001b[0m",
      "\u001b[0;32m/Users/bolker/anaconda/lib/python3.5/site-packages/pandas/io/html.py\u001b[0m in \u001b[0;36m_parse\u001b[0;34m(flavor, io, match, header, index_col, skiprows, parse_dates, tupleize_cols, thousands, attrs, encoding)\u001b[0m\n\u001b[1;32m    724\u001b[0m     \u001b[0mretained\u001b[0m \u001b[0;34m=\u001b[0m \u001b[0;32mNone\u001b[0m\u001b[0;34m\u001b[0m\u001b[0m\n\u001b[1;32m    725\u001b[0m     \u001b[0;32mfor\u001b[0m \u001b[0mflav\u001b[0m \u001b[0;32min\u001b[0m \u001b[0mflavor\u001b[0m\u001b[0;34m:\u001b[0m\u001b[0;34m\u001b[0m\u001b[0m\n\u001b[0;32m--> 726\u001b[0;31m         \u001b[0mparser\u001b[0m \u001b[0;34m=\u001b[0m \u001b[0m_parser_dispatch\u001b[0m\u001b[0;34m(\u001b[0m\u001b[0mflav\u001b[0m\u001b[0;34m)\u001b[0m\u001b[0;34m\u001b[0m\u001b[0m\n\u001b[0m\u001b[1;32m    727\u001b[0m         \u001b[0mp\u001b[0m \u001b[0;34m=\u001b[0m \u001b[0mparser\u001b[0m\u001b[0;34m(\u001b[0m\u001b[0mio\u001b[0m\u001b[0;34m,\u001b[0m \u001b[0mcompiled_match\u001b[0m\u001b[0;34m,\u001b[0m \u001b[0mattrs\u001b[0m\u001b[0;34m,\u001b[0m \u001b[0mencoding\u001b[0m\u001b[0;34m)\u001b[0m\u001b[0;34m\u001b[0m\u001b[0m\n\u001b[1;32m    728\u001b[0m \u001b[0;34m\u001b[0m\u001b[0m\n",
      "\u001b[0;32m/Users/bolker/anaconda/lib/python3.5/site-packages/pandas/io/html.py\u001b[0m in \u001b[0;36m_parser_dispatch\u001b[0;34m(flavor)\u001b[0m\n\u001b[1;32m    668\u001b[0m     \u001b[0;32mif\u001b[0m \u001b[0mflavor\u001b[0m \u001b[0;32min\u001b[0m \u001b[0;34m(\u001b[0m\u001b[0;34m'bs4'\u001b[0m\u001b[0;34m,\u001b[0m \u001b[0;34m'html5lib'\u001b[0m\u001b[0;34m)\u001b[0m\u001b[0;34m:\u001b[0m\u001b[0;34m\u001b[0m\u001b[0m\n\u001b[1;32m    669\u001b[0m         \u001b[0;32mif\u001b[0m \u001b[0;32mnot\u001b[0m \u001b[0m_HAS_HTML5LIB\u001b[0m\u001b[0;34m:\u001b[0m\u001b[0;34m\u001b[0m\u001b[0m\n\u001b[0;32m--> 670\u001b[0;31m             \u001b[0;32mraise\u001b[0m \u001b[0mImportError\u001b[0m\u001b[0;34m(\u001b[0m\u001b[0;34m\"html5lib not found, please install it\"\u001b[0m\u001b[0;34m)\u001b[0m\u001b[0;34m\u001b[0m\u001b[0m\n\u001b[0m\u001b[1;32m    671\u001b[0m         \u001b[0;32mif\u001b[0m \u001b[0;32mnot\u001b[0m \u001b[0m_HAS_BS4\u001b[0m\u001b[0;34m:\u001b[0m\u001b[0;34m\u001b[0m\u001b[0m\n\u001b[1;32m    672\u001b[0m             raise ImportError(\n",
      "\u001b[0;31mImportError\u001b[0m: html5lib not found, please install it"
     ]
    }
   ],
   "source": [
    "dog_wt_url = \"https://www.petcarerx.com/article/dog-breed-weight-chart/267\"\n",
    "rr = pd.read_html(dog_wt_url)"
   ]
  },
  {
   "cell_type": "markdown",
   "metadata": {},
   "source": [
    "`read_html` returns a list of the tables found. How many are there?"
   ]
  },
  {
   "cell_type": "code",
   "execution_count": null,
   "metadata": {
    "collapsed": false
   },
   "outputs": [],
   "source": [
    "len(rr)"
   ]
  },
  {
   "cell_type": "markdown",
   "metadata": {},
   "source": [
    "Extract the first (and only) table from the results ..."
   ]
  },
  {
   "cell_type": "code",
   "execution_count": null,
   "metadata": {
    "collapsed": false
   },
   "outputs": [],
   "source": [
    "rr0 = rr[0]\n",
    "rr0.head()"
   ]
  },
  {
   "cell_type": "markdown",
   "metadata": {},
   "source": [
    "clean up ..."
   ]
  },
  {
   "cell_type": "code",
   "execution_count": null,
   "metadata": {
    "collapsed": false,
    "scrolled": true
   },
   "outputs": [],
   "source": [
    "rr0 = rr0.iloc[1:,]\n",
    "rr0.columns = [\"breed\",\"weight\"]\n",
    "rr0.head()"
   ]
  },
  {
   "cell_type": "markdown",
   "metadata": {},
   "source": [
    "This would take a bit more effort to process.  Ideally I would split the male and female values (and duplicate them for species with only one value given), and average ranges where given. pandas has a lot of tools (as `.str.*` methods) for dealing with this stuff, but I didn't have enough time to figure it all out. It would be less efficient, but I could also try a good old-fashioned `for` loop with a bunch of `if` statements (if male and female; if range; etc.)"
   ]
  },
  {
   "cell_type": "code",
   "execution_count": null,
   "metadata": {
    "collapsed": false
   },
   "outputs": [],
   "source": [
    "wt2_male = rr0.weight\n",
    "wt2_female = rr0.weight\n",
    "twosex = rr0.weight.str.contains(\"Male\")\n",
    "rr0.weight.str.extract('([0-9]+-[0-9]+)',expand=False).head()\n"
   ]
  },
  {
   "cell_type": "markdown",
   "metadata": {},
   "source": [
    "We want to combine the weight data with the breed data, matching by breed. This is called a *database join*, `merge` in pandas ..."
   ]
  },
  {
   "cell_type": "code",
   "execution_count": null,
   "metadata": {
    "collapsed": false
   },
   "outputs": [],
   "source": [
    "pp = pd.merge(p,rr0,left_on=\"breed1\",right_on=\"breed\")\n",
    "pp[[\"name\",\"gender\",\"breed1\",\"weight\"]].head()"
   ]
  },
  {
   "cell_type": "markdown",
   "metadata": {},
   "source": [
    "## failed attempts to draw maps"
   ]
  },
  {
   "cell_type": "code",
   "execution_count": null,
   "metadata": {
    "collapsed": false
   },
   "outputs": [],
   "source": [
    "import shapefile ## pip3 install pyShp"
   ]
  },
  {
   "cell_type": "code",
   "execution_count": null,
   "metadata": {
    "collapsed": true
   },
   "outputs": [],
   "source": [
    "sf = shapefile.Reader(\"../data/ZIP_CODE_040114.shp\")"
   ]
  },
  {
   "cell_type": "code",
   "execution_count": null,
   "metadata": {
    "collapsed": false
   },
   "outputs": [],
   "source": [
    "sf"
   ]
  },
  {
   "cell_type": "code",
   "execution_count": null,
   "metadata": {
    "collapsed": false
   },
   "outputs": [],
   "source": [
    "len(sf.shapes())"
   ]
  }
 ],
 "metadata": {
  "anaconda-cloud": {},
  "kernelspec": {
   "display_name": "Python 3",
   "language": "python",
   "name": "python3"
  },
  "language_info": {
   "codemirror_mode": {
    "name": "ipython",
    "version": 3
   },
   "file_extension": ".py",
   "mimetype": "text/x-python",
   "name": "python",
   "nbconvert_exporter": "python",
   "pygments_lexer": "ipython3",
   "version": "3.4.3"
  }
 },
 "nbformat": 4,
 "nbformat_minor": 0
}

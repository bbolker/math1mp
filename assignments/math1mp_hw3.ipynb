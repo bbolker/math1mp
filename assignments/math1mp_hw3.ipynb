{
 "cells": [
  {
   "cell_type": "markdown",
   "metadata": {},
   "source": [
    "# homework 3\n",
    "\n",
    "Submit your assignment as a Jupyter notebook file called `yourmacid_hw3.ipynb`, where `yourmacid` is replaced with your MacID from your McMaster email address. (For example: since my McMaster email address is bolker@mcmaster.ca, I would submit a file called `bolker_hw3.ipynb`.) Submit this file to the Dropbox on the MATH 1MP3 Avenue to Learn site by **Fri 11 October at 11:59 PM**.\n",
    "\n",
    "We **will** be deducting marks for incorrectly named files, and for files submitted in incorrect formats.\n",
    "\n",
    "To complete your assignment, edit the function definitions in this template (then rename the file appropriately, as above). (Don't forget to use appropriate `return()` statements in your functions!) **Do not alter any other part of this template.**\n",
    "\n",
    "While developing and testing your code, it might be helpful to use\n",
    "`print` statements, but please remove them before submitting your solution. The template contains several `assert` statements that when executed will test your code.\n",
    "\n",
    "Any file submitted for grading that does not conform to the specifications above will lead to a grade of zero on the assignment.\n",
    "\n",
    "Before submitting your solution, you should make sure that it runs properly. To do this, you can open it in the Jupyter notebook server that comes installed with Anaconda, or you can use the McMaster Jupyter server, by going to the website https://mcmaster.syzygy.ca/. (Try running `Kernel > Restart & Run all` from the menu to run all of your code from scratch and make sure nothing is left out.) Feel free to use the Spyder IDE, or some other IDE, to develop your code before entering it into the Jupyter notebook that you submit.\n",
    "\n",
    "Your grade for each question will depend on whether or not your code correctly handles not just the test cases provided in the template, but other test cases that will be run on your solutions.\n",
    "\n",
    "Do not leave this assignment until the last minute; last-minute computer/internet/Avenue issues on your part are your problem, not ours ...\n",
    "\n",
    "Late assignments will be penalized 25% per day.\n",
    "\n",
    "All work submitted for grading must be your own. You may discuss homework problems and related material with other students, but you must not submit work copied from others or from the internet.  If you use any internet resources for help, you **must** list them as comments (##) in your answer.\n",
    "(insert instructions here ...)"
   ]
  },
  {
   "cell_type": "code",
   "execution_count": null,
   "metadata": {
    "deletable": false,
    "editable": false,
    "nbgrader": {
     "cell_type": "code",
     "checksum": "09395c569b5dfd53d7e711aa4711b7c1",
     "grade": false,
     "grade_id": "cell-8e04375423e8765a",
     "locked": true,
     "schema_version": 3,
     "solution": false,
     "task": false
    }
   },
   "outputs": [],
   "source": [
    "## RUN THIS CHUNK FIRST!\n",
    "import math\n",
    "##\n",
    "def test1(f,input,target):\n",
    "    print(\"your answer: \"+str(f(input)))\n",
    "    print(\"correct answer: \"+str(target))\n",
    "    if (f(input)==target):\n",
    "        print(\"OK!\")\n",
    "    assert f(input)==target\n",
    "    return(None)\n",
    "\n",
    "def test2(fun,f,g,nf,ng,x,target):\n",
    "    print(\"your answer: \"+str(fun(f,g,nf,ng,x)))\n",
    "    print(\"correct answer: \"+str(target))\n",
    "    if math.isclose(fun(f,g,nf,ng,x),target):\n",
    "        print(\"OK!\")\n",
    "    assert math.isclose(fun(f,g,nf,ng,x),target)\n",
    "    return(None)"
   ]
  },
  {
   "cell_type": "markdown",
   "metadata": {
    "deletable": false,
    "editable": false,
    "nbgrader": {
     "cell_type": "markdown",
     "checksum": "d884302723be017329d37c0a2ce99c61",
     "grade": false,
     "grade_id": "cell-c47b9995b7166bfe",
     "locked": true,
     "schema_version": 3,
     "solution": false,
     "task": false
    }
   },
   "source": [
    "## 1. testing for vowels (5 points)\n",
    "\n",
    "Write a function `has_vowel` that takes a single string `word` and returns a `bool` value depending on whether the word contains at least one vowel. The vowels in English are \"a\",\"e\",\"i\",\"o\",\"u\": don't worry about \"y\". Both uppercase and lowercase vowels are allowed; either check both cases (e.g. \"a\" and \"A\") or convert the input string to lowercase. Do not assume that the input `word` is a string: if it is not a legal input (i.e. if it is not of type `str`), your function should return `False`."
   ]
  },
  {
   "cell_type": "code",
   "execution_count": null,
   "metadata": {
    "deletable": false,
    "nbgrader": {
     "cell_type": "code",
     "checksum": "e0bd6e270159763be7278316abcd2f6a",
     "grade": false,
     "grade_id": "cell-adf495327d132a1f",
     "locked": false,
     "schema_version": 3,
     "solution": true,
     "task": false
    }
   },
   "outputs": [],
   "source": [
    "def has_vowel(word):\n",
    "    \"\"\"\n",
    "    Return a bool value, depending on whether the single input \n",
    "    contains vowel or not\n",
    "    \"\"\"\n",
    "    # YOUR CODE HERE\n",
    "    raise NotImplementedError()"
   ]
  },
  {
   "cell_type": "markdown",
   "metadata": {},
   "source": [
    "Your function should return `False` for `word`=\"zzzz\" and `True` for `word`=\"ssi\". Check that it does:"
   ]
  },
  {
   "cell_type": "code",
   "execution_count": null,
   "metadata": {
    "deletable": false,
    "editable": false,
    "nbgrader": {
     "cell_type": "code",
     "checksum": "687f4be36fc9956d48eb1d8dfca254ee",
     "grade": false,
     "grade_id": "cell-5d10d9ece48f3bd1",
     "locked": true,
     "schema_version": 3,
     "solution": false,
     "task": false
    }
   },
   "outputs": [],
   "source": [
    "has_vowel(\"zzzz\")"
   ]
  },
  {
   "cell_type": "code",
   "execution_count": null,
   "metadata": {
    "deletable": false,
    "editable": false,
    "nbgrader": {
     "cell_type": "code",
     "checksum": "abbb359828f3ed42b9975cfc9f1a8b1d",
     "grade": false,
     "grade_id": "cell-b171fe6e4d15dd1d",
     "locked": true,
     "schema_version": 3,
     "solution": false,
     "task": false
    }
   },
   "outputs": [],
   "source": [
    "has_vowel(\"ssi\")"
   ]
  },
  {
   "cell_type": "code",
   "execution_count": null,
   "metadata": {
    "deletable": false,
    "editable": false,
    "nbgrader": {
     "cell_type": "code",
     "checksum": "43be07b79f28e1f90c0bc94518da1bbe",
     "grade": true,
     "grade_id": "cell-54f09568b3214e1b",
     "locked": true,
     "points": 1,
     "schema_version": 3,
     "solution": false,
     "task": false
    }
   },
   "outputs": [],
   "source": [
    "test1(has_vowel,[123,\"ase\"],False)"
   ]
  },
  {
   "cell_type": "code",
   "execution_count": null,
   "metadata": {
    "deletable": false,
    "editable": false,
    "nbgrader": {
     "cell_type": "code",
     "checksum": "db756cd990326310c7fcc60e945de2c4",
     "grade": true,
     "grade_id": "cell-e6db0157eff6f364",
     "locked": true,
     "points": 1,
     "schema_version": 3,
     "solution": false,
     "task": false
    }
   },
   "outputs": [],
   "source": [
    "test1(has_vowel,432,False)"
   ]
  },
  {
   "cell_type": "code",
   "execution_count": null,
   "metadata": {
    "deletable": false,
    "editable": false,
    "nbgrader": {
     "cell_type": "code",
     "checksum": "9db4c3bd06c1fd74a77a77d82ef20bac",
     "grade": true,
     "grade_id": "cell-9e66f6675be5cc3e",
     "locked": true,
     "points": 3,
     "schema_version": 3,
     "solution": false,
     "task": false
    }
   },
   "outputs": [],
   "source": [
    "test1(has_vowel,\"ABD\",True)"
   ]
  },
  {
   "cell_type": "markdown",
   "metadata": {},
   "source": [
    "\n",
    "## 2. \"ubbi dubbi\" (6 points)\n",
    "\n",
    "\"Ubbi Dubbi\" is a fake language (like Pig Latin) where words are modified by inserting the letters \"ubb\" in front of each set of vowels. For example, \"hello\" becomes \"hubbellubbo\"in Ubbi Dubbi; \"raccoon\" becomes \"rubbaccubboon\". Write an ubbi_dubbi function that takes a single string word and converts it to Ubbi Dubbi.\n",
    "\n",
    "Hints for implementation:\n",
    "\n",
    "- Do not assume that the input is a string (`str`). If it is not a legal input, your function should return False.\n",
    "- you should probably use a `for` or `while` loop to work through the letters in the string.\n",
    "- use a `bool` variable to keep track of whether the previous letter was a vowel or not (or use appropriate indexing to examine the previous letter, being careful not to reference positions before the beginning of the string)\n",
    "- every time you come to a vowel when the previous letter was not a vowel, add \"ubb\" to the result string"
   ]
  },
  {
   "cell_type": "code",
   "execution_count": null,
   "metadata": {
    "deletable": false,
    "nbgrader": {
     "cell_type": "code",
     "checksum": "a10557537efbd763f35c88db016d2053",
     "grade": false,
     "grade_id": "cell-082e6844fc0c8c66",
     "locked": false,
     "schema_version": 3,
     "solution": true,
     "task": false
    }
   },
   "outputs": [],
   "source": [
    "def ubbi_dubbi(word):\n",
    "    \"\"\"Given an input string, produce an 'ubbi dubbi' string that inserts\n",
    "    'ubb' before every set of contiguous vowels\n",
    "    \"\"\"\n",
    "    # YOUR CODE HERE\n",
    "    raise NotImplementedError()"
   ]
  },
  {
   "cell_type": "markdown",
   "metadata": {
    "deletable": false,
    "editable": false,
    "nbgrader": {
     "cell_type": "markdown",
     "checksum": "cf439f4b921b2878702a88e60768982f",
     "grade": false,
     "grade_id": "cell-680843d67fc5718b",
     "locked": true,
     "schema_version": 3,
     "solution": false,
     "task": false
    }
   },
   "source": [
    "Your function should return \"hubbellubbo\" for argument \"hello\" and return \"rubbaccubboon\" for a argument \"raccoon\". Check that it does:"
   ]
  },
  {
   "cell_type": "code",
   "execution_count": null,
   "metadata": {
    "deletable": false,
    "editable": false,
    "nbgrader": {
     "cell_type": "code",
     "checksum": "53d7337da301e93d3f1ea7989ec6700a",
     "grade": true,
     "grade_id": "cell-df3f6412c2ee9e0b",
     "locked": true,
     "points": 1,
     "schema_version": 3,
     "solution": false,
     "task": false
    }
   },
   "outputs": [],
   "source": [
    "test1(ubbi_dubbi,\"hello\",\"hubbellubbo\")"
   ]
  },
  {
   "cell_type": "code",
   "execution_count": null,
   "metadata": {
    "deletable": false,
    "editable": false,
    "nbgrader": {
     "cell_type": "code",
     "checksum": "b8d9f94ecc65fcb5358988b7b4a446b2",
     "grade": true,
     "grade_id": "cell-2e8278b0e3430b5a",
     "locked": true,
     "points": 1,
     "schema_version": 3,
     "solution": false,
     "task": false
    }
   },
   "outputs": [],
   "source": [
    "test1(ubbi_dubbi,\"raccoon\",\"rubbaccubboon\")"
   ]
  },
  {
   "cell_type": "markdown",
   "metadata": {
    "deletable": false,
    "editable": false,
    "nbgrader": {
     "cell_type": "markdown",
     "checksum": "026746518f70158ea1e6b79cec7a1355",
     "grade": false,
     "grade_id": "cell-b16383f6203f26e1",
     "locked": true,
     "schema_version": 3,
     "solution": false,
     "task": false
    }
   },
   "source": [
    "Your function should handle upper- and lowercase letters:"
   ]
  },
  {
   "cell_type": "code",
   "execution_count": null,
   "metadata": {
    "deletable": false,
    "editable": false,
    "nbgrader": {
     "cell_type": "code",
     "checksum": "df4ab91127c990ceae5e6093bb711a46",
     "grade": true,
     "grade_id": "cell-9dc6dbdcabc492d9",
     "locked": true,
     "points": 1,
     "schema_version": 3,
     "solution": false,
     "task": false
    }
   },
   "outputs": [],
   "source": [
    "test1(ubbi_dubbi,\"HELLO\",\"HubbELLubbO\")"
   ]
  },
  {
   "cell_type": "markdown",
   "metadata": {
    "deletable": false,
    "editable": false,
    "nbgrader": {
     "cell_type": "markdown",
     "checksum": "9d8bbef6ef45d5da16376d12d41eabec",
     "grade": false,
     "grade_id": "cell-664491f66b9addb5",
     "locked": true,
     "schema_version": 3,
     "solution": false,
     "task": false
    }
   },
   "source": [
    "And should return `False` if the input is not a string, or contains characters other than letters:"
   ]
  },
  {
   "cell_type": "code",
   "execution_count": null,
   "metadata": {
    "deletable": false,
    "editable": false,
    "nbgrader": {
     "cell_type": "code",
     "checksum": "193447b56efe34c75a12182c8bd42879",
     "grade": true,
     "grade_id": "cell-4584125d810684bf",
     "locked": true,
     "points": 1,
     "schema_version": 3,
     "solution": false,
     "task": false
    }
   },
   "outputs": [],
   "source": [
    "test1(ubbi_dubbi,\"hello@\",False)"
   ]
  },
  {
   "cell_type": "code",
   "execution_count": null,
   "metadata": {
    "deletable": false,
    "editable": false,
    "nbgrader": {
     "cell_type": "code",
     "checksum": "9d2c91ee393183c06958cc0301f446c4",
     "grade": true,
     "grade_id": "cell-92457636d6e3e381",
     "locked": true,
     "points": 2,
     "schema_version": 3,
     "solution": false,
     "task": false
    }
   },
   "outputs": [],
   "source": [
    "## please ignore"
   ]
  },
  {
   "cell_type": "markdown",
   "metadata": {},
   "source": [
    "##  3. Composition (5 points)\n",
    "Write a function that takes five arguments: two functions (`f` and `g`), two integers (`nf` and `ng`), and one number (`float` or `int`) `x`. It should return the result of first applying `g` to `x` `ng` times, then applying `f` to the result `nf` times. For example, given arguments `f=math.sin()`, `g=math.sqrt()`, `nf=2`, `ng=3`, `x = math.pi` the answer would be the result of `math.sin(math.sin(math.sqrt(math.sqrt(math.sqrt(math.pi)))))`, which is `0.7921500660109078`."
   ]
  },
  {
   "cell_type": "code",
   "execution_count": null,
   "metadata": {
    "deletable": false,
    "nbgrader": {
     "cell_type": "code",
     "checksum": "edc25f08b7e95af95a5464a5a162b0c4",
     "grade": false,
     "grade_id": "cell-a1f01d48c2551b1c",
     "locked": false,
     "schema_version": 3,
     "solution": true,
     "task": false
    }
   },
   "outputs": [],
   "source": [
    "def composition(f, g, nf, ng, x):\n",
    "    \"\"\"\"\"\"\n",
    "    # YOUR CODE HERE\n",
    "    raise NotImplementedError()"
   ]
  },
  {
   "cell_type": "markdown",
   "metadata": {
    "deletable": false,
    "editable": false,
    "nbgrader": {
     "cell_type": "markdown",
     "checksum": "6052b0e6328c251f4092b192eb280a6e",
     "grade": false,
     "grade_id": "cell-7994e3327a309fe0",
     "locked": true,
     "schema_version": 3,
     "solution": false,
     "task": false
    }
   },
   "source": [
    "Your function should return 0.7921500660109078 for arguments `f`=`math.sin`, `g`=`math.sqrt`, `nf`=2, `ng`=3, `x` = `math.pi`. Check that it does:"
   ]
  },
  {
   "cell_type": "code",
   "execution_count": null,
   "metadata": {
    "deletable": false,
    "editable": false,
    "nbgrader": {
     "cell_type": "code",
     "checksum": "7b8ef81b2ddc2b224ec0826752dfb091",
     "grade": true,
     "grade_id": "cell-b7c7d8da8fc1afc8",
     "locked": true,
     "points": 1,
     "schema_version": 3,
     "solution": false,
     "task": false
    }
   },
   "outputs": [],
   "source": [
    "test2(composition,math.sin,math.sqrt,2,3,math.pi,0.7921500660109078)"
   ]
  },
  {
   "cell_type": "code",
   "execution_count": null,
   "metadata": {
    "deletable": false,
    "editable": false,
    "nbgrader": {
     "cell_type": "code",
     "checksum": "8242a6f8fe6b961dd5dd590cd1f909a0",
     "grade": true,
     "grade_id": "cell-03f48ff91d9f8168",
     "locked": true,
     "points": 2,
     "schema_version": 3,
     "solution": false,
     "task": false
    }
   },
   "outputs": [],
   "source": [
    "test2(composition,math.sin,math.factorial, 1,2,1,0.8414709848078965)"
   ]
  },
  {
   "cell_type": "code",
   "execution_count": null,
   "metadata": {
    "deletable": false,
    "editable": false,
    "nbgrader": {
     "cell_type": "code",
     "checksum": "a14a94233ea0c54ab4e4de5a55b6e061",
     "grade": true,
     "grade_id": "cell-0c0c8e5b3811e78f",
     "locked": true,
     "points": 2,
     "schema_version": 3,
     "solution": false,
     "task": false
    }
   },
   "outputs": [],
   "source": [
    "test2(composition,math.factorial,math.fabs,2,1,-3,720)"
   ]
  }
 ],
 "metadata": {
  "kernelspec": {
   "display_name": "Python 3",
   "language": "python",
   "name": "python3"
  },
  "language_info": {
   "codemirror_mode": {
    "name": "ipython",
    "version": 3
   },
   "file_extension": ".py",
   "mimetype": "text/x-python",
   "name": "python",
   "nbconvert_exporter": "python",
   "pygments_lexer": "ipython3",
   "version": "3.5.2"
  }
 },
 "nbformat": 4,
 "nbformat_minor": 2
}

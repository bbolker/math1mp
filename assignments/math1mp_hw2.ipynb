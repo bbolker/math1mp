{
 "cells": [
  {
   "cell_type": "markdown",
   "metadata": {
    "deletable": false,
    "editable": false,
    "nbgrader": {
     "cell_type": "markdown",
     "checksum": "7f7d13cf9943f4bb854ca7e404ab354d",
     "grade": false,
     "grade_id": "cell-d7f50d0429d79039",
     "locked": true,
     "schema_version": 3,
     "solution": false,
     "task": false
    }
   },
   "source": [
    "# Homework 2\n",
    "\n",
    "Submit your assignment as a Jupyter notebook file called `yourmacid_hw2.ipynb`, where `yourmacid` is replaced with your MacID from your McMaster email address. (For example: since my McMaster email address is bolker@mcmaster.ca, I would submit a file called `bolker_hw2.ipynb`.) Submit this file to the Dropbox on the MATH 1MP3 Avenue to Learn site by **Weds 2 October at 11:59 PM**.\n",
    "\n",
    "To complete your assignment, edit the function definitions in this template (then rename the file appropriately, as above). (Don't forget to use appropriate `return()` statements in your functions!) **Do not alter any other part of this template.**\n",
    "\n",
    "While developing and testing your code, it might be helpful to use\n",
    "`print` statements, but please remove them before submitting your solution. The template contains several `assert` statements that when executed will test your code.\n",
    "\n",
    "Any file submitted for grading that does not conform to the specifications above will lead to a grade of zero on the assignment.\n",
    "\n",
    "Before submitting your solution, you should make sure that it runs properly. To do this, you can open it in the Jupyter notebook server that comes installed with Anaconda, or you can use the McMaster Jupyter server, by going to the website https://mcmaster.syzygy.ca/. (Try running `Kernel > Restart & Aun all` from the menu to run all of your code from scratch and make sure nothing is left out.) Feel free to use the Spyder IDE, or some other IDE, to develop your code before entering it into the Jupyter notebook that you submit.\n",
    "\n",
    "Your grade for each question will depend on whether or not your code correctly handles not just the test cases provided in the template, but other test cases that will be run on your solutions.\n",
    "\n",
    "Do not leave this assignment until the last minute; last-minute computer/internet/Avenue issues on your part are your problem, not ours ...\n",
    "\n",
    "Late assignments will be penalized 25% per day.\n",
    "\n",
    "All work submitted for grading must be your own. You may discuss homework problems and related material with other students, but you must not submit work copied from others or from the internet.  If you use any internet resources for help, you **must** list them as comments (##) in your answer."
   ]
  },
  {
   "cell_type": "markdown",
   "metadata": {
    "deletable": false,
    "editable": false,
    "nbgrader": {
     "cell_type": "markdown",
     "checksum": "cdb41d4242214266caf6a797a3e755b5",
     "grade": false,
     "grade_id": "cell-a9dbc3ec02c6563e",
     "locked": true,
     "schema_version": 3,
     "solution": false,
     "task": false
    }
   },
   "source": [
    "You should not `import` any modules for this homework, other than the `math` module (you may lose points if you do). "
   ]
  },
  {
   "cell_type": "code",
   "execution_count": null,
   "metadata": {
    "deletable": false,
    "editable": false,
    "nbgrader": {
     "cell_type": "code",
     "checksum": "1bfbbff739571cb20d65461d29261a4d",
     "grade": false,
     "grade_id": "cell-0b7a33e2c44da1b0",
     "locked": true,
     "schema_version": 3,
     "solution": false,
     "task": false
    }
   },
   "outputs": [],
   "source": [
    "## run this code chunk before using the rest of the notebook ...\n",
    "import math"
   ]
  },
  {
   "cell_type": "markdown",
   "metadata": {
    "deletable": false,
    "editable": false,
    "nbgrader": {
     "cell_type": "markdown",
     "checksum": "9d34d71791bb0ff22867acc2f07b1fde",
     "grade": false,
     "grade_id": "cell-2ecc1ebf05f5a91e",
     "locked": true,
     "schema_version": 3,
     "solution": false,
     "task": false
    }
   },
   "source": [
    "## 1. Coin counting (5 points)\n",
    "\n",
    "Given an amount of money and a list of denominations, write a function that returns a list of integers (`int`) that gives the (smallest) number of coins from a given combination of units; if the remaining number of cents (an integer) is not equal to zero, append it to the result. For example, Your function should return `[2,1,2,2,0,3]` for arguments `total = 5.73` and `denoms = [2,1,0.25,0.1,0.05]`. Do not assume that the list of denominations is correctly sorted; use `help(\"list.sort\")` to find out about the sorting method for lists and its `reverse` argument (to sort the list into reverse order).\n",
    "\n",
    "To get the remaining number of cents, use `round(x*100)` where `x` is the remaining amount of value (e.g. if `x` is 0.02, this will give a value of 2)."
   ]
  },
  {
   "cell_type": "code",
   "execution_count": null,
   "metadata": {
    "deletable": false,
    "nbgrader": {
     "cell_type": "code",
     "checksum": "5e743f165314242bd26dfe65dad78c8f",
     "grade": false,
     "grade_id": "cell-6c5310447fca2b1e",
     "locked": false,
     "schema_version": 3,
     "solution": true,
     "task": false
    }
   },
   "outputs": [],
   "source": [
    "def coin_counting(total, denoms):\n",
    "    \"\"\"Compute the smallest number of coins for a \n",
    "    given combination of units, and the remaining number\n",
    "    of cents (if any)\"\"\"\n",
    "    # YOUR CODE HERE\n",
    "    raise NotImplementedError()"
   ]
  },
  {
   "cell_type": "markdown",
   "metadata": {
    "deletable": false,
    "editable": false,
    "nbgrader": {
     "cell_type": "markdown",
     "checksum": "bc11f0994281bd4d966023c5d0448aaa",
     "grade": false,
     "grade_id": "cell-b55f1c95fb8e7a6e",
     "locked": true,
     "schema_version": 3,
     "solution": false,
     "task": false
    }
   },
   "source": [
    "Your function should return `[2,1,2,2,0,3]` for arguments `total = 5.73`, `denoms = [2,1,0.25,0.1,0.05]`, and `[2,1,0,0,0]` for arguments `total = 5`, `denoms = [2,1,0.25,0.1,0.05]`.\n",
    "Check that it does:"
   ]
  },
  {
   "cell_type": "code",
   "execution_count": null,
   "metadata": {
    "deletable": false,
    "editable": false,
    "nbgrader": {
     "cell_type": "code",
     "checksum": "ddc1b3babdc6f51b964b789831f5f650",
     "grade": false,
     "grade_id": "cell-0300ff30ec6cdd91",
     "locked": true,
     "schema_version": 3,
     "solution": false,
     "task": false
    }
   },
   "outputs": [],
   "source": [
    "coin_counting(5.73,[2,1,0.25,0.1,0.05])"
   ]
  },
  {
   "cell_type": "code",
   "execution_count": null,
   "metadata": {
    "deletable": false,
    "editable": false,
    "nbgrader": {
     "cell_type": "code",
     "checksum": "72256086e61023fede3c8148123d1a2b",
     "grade": false,
     "grade_id": "cell-1d66105dce3c19b3",
     "locked": true,
     "schema_version": 3,
     "solution": false,
     "task": false
    }
   },
   "outputs": [],
   "source": [
    "coin_counting(5,[2,1,0.25,0.1,0.05])\n",
    "coin_counting(3.61,[2,1,0.25,0.05])"
   ]
  },
  {
   "cell_type": "markdown",
   "metadata": {
    "deletable": false,
    "editable": false,
    "nbgrader": {
     "cell_type": "markdown",
     "checksum": "f4428bc53e0911e54b115ed0f2845d9e",
     "grade": false,
     "grade_id": "cell-fe06d572f64322a8",
     "locked": true,
     "schema_version": 3,
     "solution": false,
     "task": false
    }
   },
   "source": [
    "The `assert` keyword is a way to check that your function acts the way it's supposed to: if the statement after `assert` is not `True`, Python will give an error."
   ]
  },
  {
   "cell_type": "code",
   "execution_count": null,
   "metadata": {
    "deletable": false,
    "editable": false,
    "nbgrader": {
     "cell_type": "code",
     "checksum": "75b8a390a4047710be550170a3586b77",
     "grade": true,
     "grade_id": "cell-b8da04c26c34814c",
     "locked": true,
     "points": 2,
     "schema_version": 3,
     "solution": false,
     "task": false
    }
   },
   "outputs": [],
   "source": [
    "## Check that coin_counting returns the correct output for several inputs\"\n",
    "assert coin_counting(5.73,[2,1,0.25,0.1,0.05]) == [2,1,2,2,0,3]\n"
   ]
  },
  {
   "cell_type": "code",
   "execution_count": null,
   "metadata": {
    "deletable": false,
    "editable": false,
    "nbgrader": {
     "cell_type": "code",
     "checksum": "b9d1cf697f7781299163b3839452ef65",
     "grade": true,
     "grade_id": "cell-26a347c2f6954569",
     "locked": true,
     "points": 3,
     "schema_version": 3,
     "solution": false,
     "task": false
    }
   },
   "outputs": [],
   "source": [
    "assert coin_counting(5,[2,1,0.25,0.1,0.05]) == [2,1,0,0,0]"
   ]
  },
  {
   "cell_type": "markdown",
   "metadata": {
    "deletable": false,
    "editable": false,
    "nbgrader": {
     "cell_type": "markdown",
     "checksum": "878b65fe0e9c896235abff229d316696",
     "grade": false,
     "grade_id": "cell-f433015190cd982d",
     "locked": true,
     "schema_version": 3,
     "solution": false,
     "task": false
    }
   },
   "source": [
    "## Question 2. Matrix row/column sums (5 points)\n",
    "\n",
    "Using nested `for` loops, write a function that returns a list of the sums by rows and columns for a given matrix. For example, your function should return `[[6,15,24],[12,15,18]]` for a matrix argument `[[1,2,3],[4,5,6],[7,8,9]]`."
   ]
  },
  {
   "cell_type": "code",
   "execution_count": null,
   "metadata": {
    "deletable": false,
    "nbgrader": {
     "cell_type": "code",
     "checksum": "4bc9a3d6e5acd2de5806428027c30c7a",
     "grade": false,
     "grade_id": "cell-dfc921922f1df1f1",
     "locked": false,
     "schema_version": 3,
     "solution": true,
     "task": false
    }
   },
   "outputs": [],
   "source": [
    "def sum_row_column(mat):\n",
    "    \"\"\"Compute the sum of rows and columns for \n",
    "    a matrix specified as a list of lists of numbers\"\"\"\n",
    "    # YOUR CODE HERE\n",
    "    raise NotImplementedError()"
   ]
  },
  {
   "cell_type": "markdown",
   "metadata": {
    "deletable": false,
    "editable": false,
    "nbgrader": {
     "cell_type": "markdown",
     "checksum": "385b79533f42ddff95bca23cf0a97352",
     "grade": false,
     "grade_id": "cell-924fc2447c1ff717",
     "locked": true,
     "schema_version": 3,
     "solution": false,
     "task": false
    }
   },
   "source": [
    "Your function should return `[[6,15,24],[12,15,18]]` for a given matrix `[[1,2,3],[4,5,6],[7,8,9]]`. \n",
    "Check that it does:"
   ]
  },
  {
   "cell_type": "code",
   "execution_count": null,
   "metadata": {
    "deletable": false,
    "editable": false,
    "nbgrader": {
     "cell_type": "code",
     "checksum": "ea0a223a726472939454b53c0f063c9e",
     "grade": false,
     "grade_id": "cell-3912852ca8278670",
     "locked": true,
     "schema_version": 3,
     "solution": false,
     "task": false
    }
   },
   "outputs": [],
   "source": [
    "sum_row_column([[1,2,3],[4,5,6],[7,8,9]])"
   ]
  },
  {
   "cell_type": "code",
   "execution_count": null,
   "metadata": {
    "deletable": false,
    "editable": false,
    "nbgrader": {
     "cell_type": "code",
     "checksum": "612ef9c127a1b384bff3a815525e556c",
     "grade": true,
     "grade_id": "cell-3b3386ed7511f5d6",
     "locked": true,
     "points": 1,
     "schema_version": 3,
     "solution": false,
     "task": false
    }
   },
   "outputs": [],
   "source": [
    "## Check that sum_row_column returns the correct answer for various inputs.\"\"\"\n",
    "assert sum_row_column([[1,2,3],[4,5,6],[7,8,9]]) == [[6,15,24],[12,15,18]]"
   ]
  },
  {
   "cell_type": "code",
   "execution_count": null,
   "metadata": {
    "deletable": false,
    "editable": false,
    "nbgrader": {
     "cell_type": "code",
     "checksum": "02aca49eb221e494f0a75e9742dc817d",
     "grade": true,
     "grade_id": "cell-b0940909d03bcb43",
     "locked": true,
     "points": 3,
     "schema_version": 3,
     "solution": false,
     "task": false
    }
   },
   "outputs": [],
   "source": [
    "assert sum_row_column([[1]]) == [[1],[1]]"
   ]
  },
  {
   "cell_type": "code",
   "execution_count": null,
   "metadata": {
    "deletable": false,
    "editable": false,
    "nbgrader": {
     "cell_type": "code",
     "checksum": "6251c22f46dc777fe53414703d222d53",
     "grade": true,
     "grade_id": "cell-063225cc742b89b0",
     "locked": true,
     "points": 1,
     "schema_version": 3,
     "solution": false,
     "task": false
    }
   },
   "outputs": [],
   "source": [
    "## ignore this cell please"
   ]
  },
  {
   "cell_type": "markdown",
   "metadata": {
    "deletable": false,
    "editable": false,
    "nbgrader": {
     "cell_type": "markdown",
     "checksum": "9b34edfb24c238b1c0513c76e250e7d3",
     "grade": false,
     "grade_id": "cell-80396b5474bbce46",
     "locked": true,
     "schema_version": 3,
     "solution": false,
     "task": false
    }
   },
   "source": [
    "## 3. Standard deviation of a numeric sample (5 points)\n",
    "\n",
    "The sample standard deviation of a set of numbers is defined as\n",
    "\n",
    "$$\n",
    "s = \\sqrt{\\frac{\\sum_{i=1}^n (x_i-\\bar x)^2}{n-1}}\n",
    "$$\n",
    "where $\\bar x$ is the mean ($(\\sum x)/n$) (the sum here starts from 1 because that's standard math notation, but you should use 0-indexing in your answer!)  Write a Python function `stddev(x)` that computes the standard deviation of a list `x` containing numeric elements.\n",
    "\n",
    "The easiest way to do this is to write two loops, the first one of which calculates $\\sum x$ (so that you can calculate $\\bar x$ to use in the second loop).\n",
    "\n",
    "* You'll need to use `math.sqrt()` to compute the square root.\n",
    "* There is another way to do this computation with a single `for` loop (by computing $\\sum x$ and $\\sum x^2$ in the same loop, and using some algebra); this is faster but may be *slightly* less accurate."
   ]
  },
  {
   "cell_type": "code",
   "execution_count": null,
   "metadata": {
    "deletable": false,
    "nbgrader": {
     "cell_type": "code",
     "checksum": "1e482b5e1f2ba64a3dd3c2e7daba28b7",
     "grade": false,
     "grade_id": "cell-3929728463c15cc7",
     "locked": false,
     "schema_version": 3,
     "solution": true,
     "task": false
    }
   },
   "outputs": [],
   "source": [
    "def stddev(x):\n",
    "    \"\"\"compute the standard deviation of a list of numbers x\"\"\"\n",
    "    # YOUR CODE HERE\n",
    "    raise NotImplementedError()"
   ]
  },
  {
   "cell_type": "markdown",
   "metadata": {
    "deletable": false,
    "editable": false,
    "nbgrader": {
     "cell_type": "markdown",
     "checksum": "d8af52cc21987c142e1779a64602b457",
     "grade": false,
     "grade_id": "cell-4dc94edc537b0e1a",
     "locked": true,
     "schema_version": 3,
     "solution": false,
     "task": false
    }
   },
   "source": [
    "A good first test of your function is that the standard deviation of a homogeneous list (i.e., where all elements are the same) should be 0.\n"
   ]
  },
  {
   "cell_type": "code",
   "execution_count": null,
   "metadata": {
    "deletable": false,
    "editable": false,
    "nbgrader": {
     "cell_type": "code",
     "checksum": "ba2df7f7f49dec93e6c2ec482893e8b3",
     "grade": true,
     "grade_id": "cell-56a5e67611dd7c3e",
     "locked": true,
     "points": 1,
     "schema_version": 3,
     "solution": false,
     "task": false
    }
   },
   "outputs": [],
   "source": [
    "assert stddev([1,1,1,1,1]) == 0"
   ]
  },
  {
   "cell_type": "markdown",
   "metadata": {
    "deletable": false,
    "editable": false,
    "nbgrader": {
     "cell_type": "markdown",
     "checksum": "d776a49ffe8ec88a5962d128642460a7",
     "grade": false,
     "grade_id": "cell-7b617ac8ac11e830",
     "locked": true,
     "schema_version": 3,
     "solution": false,
     "task": false
    }
   },
   "source": [
    "`math.isclose()` is a utility function that tests to see whether two `float` values are *almost* equal (we will see in a few weeks why testing exact equality is usually a bad idea)"
   ]
  },
  {
   "cell_type": "code",
   "execution_count": null,
   "metadata": {
    "deletable": false,
    "editable": false,
    "nbgrader": {
     "cell_type": "code",
     "checksum": "3ea8831120346142d6bddedaf6ee8baa",
     "grade": true,
     "grade_id": "cell-d8c814a1639b65b8",
     "locked": true,
     "points": 1,
     "schema_version": 3,
     "solution": false,
     "task": false
    }
   },
   "outputs": [],
   "source": [
    "assert math.isclose(stddev([1,2,1,3,4]),1.3038404810405297)"
   ]
  },
  {
   "cell_type": "markdown",
   "metadata": {
    "deletable": false,
    "editable": false,
    "nbgrader": {
     "cell_type": "markdown",
     "checksum": "16bf8f23f0aaa4b12adceeb180fd6f1b",
     "grade": false,
     "grade_id": "cell-80d44787f6ba841e",
     "locked": true,
     "schema_version": 3,
     "solution": false,
     "task": false
    }
   },
   "source": [
    "Another good way to test code is to pick random numbers to test it with. We use `random.seed()` first to make sure that the values come out the same for everyone (we will cover this in more depth later ...)"
   ]
  },
  {
   "cell_type": "code",
   "execution_count": null,
   "metadata": {
    "deletable": false,
    "editable": false,
    "nbgrader": {
     "cell_type": "code",
     "checksum": "c40e5f0d010c7dc97c46d631e48a7306",
     "grade": true,
     "grade_id": "cell-052b1f1c224a2675",
     "locked": true,
     "points": 1,
     "schema_version": 3,
     "solution": false,
     "task": false
    }
   },
   "outputs": [],
   "source": [
    "import random\n",
    "random.seed(12345)  ## initialize random-number generator\n",
    "x = []              ## initialize empty list\n",
    "for i in range(20):\n",
    "    x.append(random.randint(1,10))  ## pick a random int from 1 to 10\n",
    "assert math.isclose(stddev(x), 2.704771612111494)"
   ]
  },
  {
   "cell_type": "code",
   "execution_count": null,
   "metadata": {
    "deletable": false,
    "editable": false,
    "nbgrader": {
     "cell_type": "code",
     "checksum": "2d4ab0550b899d2267ebb6283e0fc561",
     "grade": true,
     "grade_id": "cell-24e840fec7775e5b",
     "locked": true,
     "points": 1,
     "schema_version": 3,
     "solution": false,
     "task": false
    }
   },
   "outputs": [],
   "source": [
    "## ignore this cell please"
   ]
  },
  {
   "cell_type": "code",
   "execution_count": null,
   "metadata": {
    "deletable": false,
    "editable": false,
    "nbgrader": {
     "cell_type": "code",
     "checksum": "035f3bbf94beed537360d9cee3d4a8ec",
     "grade": true,
     "grade_id": "cell-3cecc81e1b16ff34",
     "locked": true,
     "points": 1,
     "schema_version": 3,
     "solution": false,
     "task": false
    }
   },
   "outputs": [],
   "source": [
    "## ignore this cell please"
   ]
  },
  {
   "cell_type": "markdown",
   "metadata": {
    "deletable": false,
    "editable": false,
    "nbgrader": {
     "cell_type": "markdown",
     "checksum": "0df432b3a26a53ae5947409d547851cd",
     "grade": false,
     "grade_id": "cell-37daaa994b7b481e",
     "locked": true,
     "schema_version": 3,
     "solution": false,
     "task": false
    }
   },
   "source": [
    "\n",
    "## 4. List/string manipulation (5 points)\n",
    "\n",
    "Write a function that accepts a list of strings.  If the list is in the format `[\"givenname\",\"familyname\"]` (i.e. exactly two alphabetic strings), it should return a single string made up of two (first-letter) capitalized names, separated by a space; otherwise it should return `False`. For example, your function should return \"Weijie Pang\" for a given list `[\"weijie\",\"Pang\"]`; it should return `False` for arguments `[\"firstname\"]` or `[\"Joe\",\"2\"]` or `[\"Joe\",\"Q\",\"Public\"]`.\n",
    "\n",
    "You should probably make use of the `.isalpha()` and `.capitalize()` string methods.\n"
   ]
  },
  {
   "cell_type": "code",
   "execution_count": null,
   "metadata": {
    "deletable": false,
    "nbgrader": {
     "cell_type": "code",
     "checksum": "df2cd971cb718ace7e1a90523bf67262",
     "grade": false,
     "grade_id": "cell-278142589173bda8",
     "locked": false,
     "schema_version": 3,
     "solution": true,
     "task": false
    }
   },
   "outputs": [],
   "source": [
    "def cap_name(name):\n",
    "    \"\"\"Return a capitalized name for a valid name list, \n",
    "    or False otherwise\"\"\"\n",
    "    # YOUR CODE HERE\n",
    "    raise NotImplementedError()"
   ]
  },
  {
   "cell_type": "markdown",
   "metadata": {
    "deletable": false,
    "editable": false,
    "nbgrader": {
     "cell_type": "markdown",
     "checksum": "dbfda09b67d248b4d0b029344287149c",
     "grade": false,
     "grade_id": "cell-aab96bca6b90b421",
     "locked": true,
     "schema_version": 3,
     "solution": false,
     "task": false
    }
   },
   "source": [
    "Your function should return \"Ben Bolker\" for a given list `[\"ben\",\"bolker\"]`. It should return `False` for a given list `[\"weijie \", \"pang\"]` (because of the extra space in the first name). Check that it does:"
   ]
  },
  {
   "cell_type": "code",
   "execution_count": null,
   "metadata": {
    "deletable": false,
    "editable": false,
    "nbgrader": {
     "cell_type": "code",
     "checksum": "ab7efbeea0fc869b87f19e4102b5277a",
     "grade": false,
     "grade_id": "cell-77f558c213b41c63",
     "locked": true,
     "schema_version": 3,
     "solution": false,
     "task": false
    }
   },
   "outputs": [],
   "source": [
    "cap_name([\"ben\",\"bolker\"])"
   ]
  },
  {
   "cell_type": "code",
   "execution_count": null,
   "metadata": {
    "deletable": false,
    "editable": false,
    "nbgrader": {
     "cell_type": "code",
     "checksum": "53257cf626f29d67b73083928e0cbd20",
     "grade": false,
     "grade_id": "cell-46ff04bfb2cc12c8",
     "locked": true,
     "schema_version": 3,
     "solution": false,
     "task": false
    }
   },
   "outputs": [],
   "source": [
    "cap_name([\"weijie \", \"pang\"])"
   ]
  },
  {
   "cell_type": "code",
   "execution_count": null,
   "metadata": {
    "deletable": false,
    "editable": false,
    "nbgrader": {
     "cell_type": "code",
     "checksum": "276d5c4c08d2bb392cf15c558454762e",
     "grade": true,
     "grade_id": "cell-a3c40f5510b60064",
     "locked": true,
     "points": 2,
     "schema_version": 3,
     "solution": false,
     "task": false
    }
   },
   "outputs": [],
   "source": [
    "## Check that cap_name returns the correct output for several inputs\n",
    "assert cap_name([\"Ben\",\"Bolker\"]) == \"Ben Bolker\"\n"
   ]
  },
  {
   "cell_type": "code",
   "execution_count": null,
   "metadata": {
    "deletable": false,
    "editable": false,
    "nbgrader": {
     "cell_type": "code",
     "checksum": "05d4e3084846a9f005b1b0c6525cff05",
     "grade": true,
     "grade_id": "cell-3d232f543f0a7f13",
     "locked": true,
     "points": 3,
     "schema_version": 3,
     "solution": false,
     "task": false
    }
   },
   "outputs": [],
   "source": [
    "## Check that cap_name returns the correct output for several inputs\n",
    "assert cap_name([\"weijie \", \"pang\"]) == False"
   ]
  },
  {
   "cell_type": "markdown",
   "metadata": {
    "deletable": false,
    "editable": false,
    "nbgrader": {
     "cell_type": "markdown",
     "checksum": "7a9415855b7166860884576e5a4fae67",
     "grade": false,
     "grade_id": "cell-78245c73f857a5cb",
     "locked": true,
     "schema_version": 3,
     "solution": false,
     "task": false
    }
   },
   "source": [
    "## 5. Taylor series (6 points)\n",
    "\n",
    "The Taylor series of $\\sin(x)$ around $x=0$ (also called the *Maclaurin series*) is\n",
    "$$\n",
    "x - x^3/3! + x^5/5! - x^7/7! + ...\n",
    "$$\n",
    "or\n",
    "$$\n",
    "\\sum_{i=0}^\\infty (-1)^i \\frac{x^{2i+1}}{(2i+1)!}\n",
    "$$\n",
    "where $!$ stands for the factorial function, i.e. $j! = j \\cdot (j-1) \\cdot (j-2) \\cdot \\dots 1$\n",
    "Write a function that computes this expression, adding up terms until the absolute value of the *next* term is less than a specified tolerance `tol` or until at most `nmax` terms have been added. \n",
    "\n",
    "Hints:\n",
    "\n",
    "* the default tolerance value `1e-7` is expressed in [\"e notation\"](https://en.wikipedia.org/wiki/Scientific_notation#E-notation); in this notation `[x]e[y]` denotes $x \\cdot 10^{y}$ (so `1e-7==0.0000001`)\n",
    "* when translating math into computer code, remember that multiplication is usually denoted by *juxtaposition* in math notation (i.e. $ab$ is \"$a$ times $b$\") but that you need a multiplication operator (`*`) in Python (i.e. `a*b`)\n",
    "* `abs()` is the absolute value function in Python\n",
    "* it probably makes sense for you to initialize the value of the current term to `x` and the value of the factorial to 1 before starting your `while` loop; set `i=0`, then increment it by 1 (i.e. add 1 to it) at the beginning of your `while` loop code. Then you can keep track of the value of the factorial by multiplying `f` by `(2*i)*(2*i+1)` at each step.\n",
    "* initialize `result` to 0; after your `while` loop finishes, check to see if `i` is still zero after the `while` loop finishes (i.e., the loop didn't run at all), return the value of `x` as the result.\n",
    "* If you want to compute $-1^i$ in Python you need to use parentheses around the -1, `(-1)**i`. Or you could keep track of a sign variable (initialize it to 1 and multiply it by -1 at each step).\n",
    "* use `print()` statements to debug your code.\n"
   ]
  },
  {
   "cell_type": "code",
   "execution_count": null,
   "metadata": {
    "deletable": false,
    "nbgrader": {
     "cell_type": "code",
     "checksum": "691ce95c882d160e3592d09aa4959bcb",
     "grade": false,
     "grade_id": "cell-48e495707cebea72",
     "locked": false,
     "schema_version": 3,
     "solution": true,
     "task": false
    }
   },
   "outputs": [],
   "source": [
    "def sin_taylor(x, tol=1e-7, nmax=100):\n",
    "    \"\"\"compute the Taylor series of sin(x)\n",
    "    around x=0 to a specifies tolerance/max number of terms\"\"\"\n",
    "    # YOUR CODE HERE\n",
    "    raise NotImplementedError()"
   ]
  },
  {
   "cell_type": "markdown",
   "metadata": {
    "deletable": false,
    "editable": false,
    "nbgrader": {
     "cell_type": "markdown",
     "checksum": "24998d4565d28e49cfd0125b8ac8242d",
     "grade": false,
     "grade_id": "cell-689a919717df1b5a",
     "locked": true,
     "schema_version": 3,
     "solution": false,
     "task": false
    }
   },
   "source": [
    "Your function should return 0 for `x=0` (this input will cause an infinite loop if you're not testing for the maximum number of steps!) and a value close to 1 for `x=math.pi/2`"
   ]
  },
  {
   "cell_type": "code",
   "execution_count": null,
   "metadata": {
    "deletable": false,
    "editable": false,
    "nbgrader": {
     "cell_type": "code",
     "checksum": "9b10106089f2109d1d22f2d40b404e96",
     "grade": true,
     "grade_id": "cell-e8b84068612434b3",
     "locked": true,
     "points": 2,
     "schema_version": 3,
     "solution": false,
     "task": false
    }
   },
   "outputs": [],
   "source": [
    "assert sin_taylor(0)==0\n",
    "assert math.isclose(sin_taylor(math.pi/2),0.999999943741051)"
   ]
  },
  {
   "cell_type": "markdown",
   "metadata": {
    "deletable": false,
    "editable": false,
    "nbgrader": {
     "cell_type": "markdown",
     "checksum": "b849f6e78337b920f385a9d9953bc4a3",
     "grade": false,
     "grade_id": "cell-b3a80372d1d200ad",
     "locked": true,
     "schema_version": 3,
     "solution": false,
     "task": false
    }
   },
   "source": [
    "You should also test that `sin_taylor(x,nmax=1)` is equal to `x`, and that `sin_taylor(x,tol=math.inf)` (`math.inf` is the Python expression for an infinite value) is also equal to `x` for any value of `x` ..."
   ]
  },
  {
   "cell_type": "code",
   "execution_count": null,
   "metadata": {
    "deletable": false,
    "editable": false,
    "nbgrader": {
     "cell_type": "code",
     "checksum": "52abafa3386a9a7568fc28193f878742",
     "grade": true,
     "grade_id": "cell-d085634bfcdf209e",
     "locked": true,
     "points": 4,
     "schema_version": 3,
     "solution": false,
     "task": false
    }
   },
   "outputs": [],
   "source": [
    "assert sin_taylor(17,nmax=1)==17\n",
    "### HIDDEN TESTS\n",
    "assert sin_taylor(math.pi/2,tol=0.1)==0.9248322292886504\n",
    "assert math.isclose(sin_taylor(2*math.pi),0,abs_tol=1e-6)"
   ]
  }
 ],
 "metadata": {
  "kernelspec": {
   "display_name": "Python 3",
   "language": "python",
   "name": "python3"
  },
  "language_info": {
   "codemirror_mode": {
    "name": "ipython",
    "version": 3
   },
   "file_extension": ".py",
   "mimetype": "text/x-python",
   "name": "python",
   "nbconvert_exporter": "python",
   "pygments_lexer": "ipython3",
   "version": "3.5.2"
  }
 },
 "nbformat": 4,
 "nbformat_minor": 2
}

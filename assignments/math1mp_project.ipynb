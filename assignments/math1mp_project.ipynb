{
 "cells": [
  {
   "cell_type": "markdown",
   "metadata": {
    "deletable": false,
    "editable": false,
    "nbgrader": {
     "cell_type": "markdown",
     "checksum": "8ad83fcb504b0fd8bbd6c2e2543e0349",
     "grade": false,
     "grade_id": "cell-e597da9236e543a4",
     "locked": true,
     "schema_version": 3,
     "solution": false,
     "task": false
    }
   },
   "source": [
    "# project: queue simulation\n",
    "\n",
    "\n",
    "Submit your assignment as a Jupyter notebook file called `yourmacid_project.ipynb`, where `yourmacid` is replaced with your MacID, the user name in your McMaster email address. (For example, since my McMaster email address is bolker@mcmaster.ca, I would submit a file called `bolker_project.ipynb`.) Upload this file to the appropriate dropbox on Avenue to Learn.\n",
    "\n",
    "To complete your assignment, edit the function definitions in this template, deleting the `raise NotImplementedError` statements in the code; then rename the file appropriately, as above. (Don't forget to use appropriate `return` statements in your functions!) **Do not alter any other part of this template.**\n",
    "\n",
    "While developing and testing your code, it might be helpful to use `print` statements, but please remove them before submitting your solution. The template contains several tests for your code.\n",
    "\n",
    "Any file submitted for grading that does not conform to the specifications above will lead to a grade of zero on the assignment.\n",
    "\n",
    "Before submitting your solution, you should make sure that it runs properly. To do this, you can open it in the Jupyter notebook server that comes installed with Anaconda, or you can use the McMaster Jupyter server, by going to the website https://mcmaster.syzygy.ca/. (Try running `Kernel > Restart & Run all` from the menu to run all of your code from scratch and make sure nothing is left out.) Feel free to use Spyder, or some other IDE, to develop your code before entering it into the Jupyter notebook that you submit.\n",
    "\n",
    "Your grade for each question will depend on whether or not your code correctly handles not just the test cases provided in the template, but other test cases that will be run on your solutions.\n",
    "\n",
    "Do not leave this assignment until the last minute; last-minute computer/internet/Avenue issues on your part are your problem, not ours ...\n",
    "\n",
    "Late assignments will be penalized 25% per day.\n",
    "\n",
    "All work submitted for grading must be your own. You may discuss homework problems and related material with other students, but you must not submit work copied from others or from the internet.  If you use any internet resources for help, you **must** list them as comments (##) in your answer."
   ]
  },
  {
   "cell_type": "markdown",
   "metadata": {
    "deletable": false,
    "editable": false,
    "nbgrader": {
     "cell_type": "markdown",
     "checksum": "0f5960319ffa761ba64528a5682d49e2",
     "grade": false,
     "grade_id": "cell-f325815104600a19",
     "locked": true,
     "schema_version": 3,
     "solution": false,
     "task": false
    }
   },
   "source": [
    "In this project you will write Python code to simulate a simple **queue**. A queue is any system where one or more **servers** process **jobs**: this could be bank clients (jobs) at an automated teller machine (servers), or shoppers (jobs) at checkout counters (servers) in a supermarket. \n",
    "\n",
    "The usual mechanics of a queue are that new jobs arrive at the queue at random times, typically **exponentially distributed**: we can use the `numpy.random.exponential(a)` function to choose an exponentially distributed (pseudo)random variable with mean $a$. Each job also has a **processing time**, which we will also choose from an exponential distribution with mean $w$.\n",
    "\n",
    "1. Write a function `queue_step(queue, atime, wtime)` that simulates one step in the dynamics of the queue from a starting time `time` until the arrival of the next job (with processing time `wtime`) at time `atime`\n",
    "\t- `queue` is a list (possibly empty) of jobs. Each element in the list is a float representing the processing time for that job, when it arrives at the server. The first element `queue[0]` (if it exists) is the \"current job\", or the job currently being processed; the second element `queue[1]` (if it exists) is the \"first waiting job\"; `queue[-1]` (if it exists) is the most recently arrived job.\n",
    "\t- `atime` is the time until the next job arrives\n",
    "\t- `wtime` is the processing time the job will take when it arrives at the head of the queue\n",
    "\n",
    "Your function should return a tuple `(proc_n, proc_t)` that gives the number of jobs completed (integer) and the processing time (float) that has been used while waiting for the next job to arrive.\n",
    "\n",
    "The basic machinery of this function should work as follows:\n",
    "\n",
    "- append the job to the end of the queue (i.e., append its processing time to the queue list)\n",
    "- if the queue is of length 1, it was empty before the new job arrived; return (0,0.0) (no jobs have been processed while waiting for the new job to arrive, and no time was spent processing)\n",
    "- if the queue was not empty:\n",
    "\t- if the current job's remaining processing time is longer than the time it took for the new job to arrive:\n",
    "\t\t- subtract the arrival time from the current job's processing time\n",
    "\t\t- return `(0,atime)` (no jobs have finished in this step, and the entire waiting time was spent processing)\n",
    "\t- otherwise:\n",
    "        - initialize `proc_n` and `proc_t` to zero\n",
    "\t\t- while there is more than one job in the queue (including the current job) and the remaining processing time of the current job is less than the remaining arrival time:\n",
    "\t\t\t- subtract the processing time of the current job from the arrival time\n",
    "            - add the processing time of the current job to `proc_t`\n",
    "            - add one to the number of jobs completed;  \n",
    "\t\t\t- move the processing time of the first waiting job (the second job in the queue) into the processing slot (first in the queue) by deleting the current job from the beginning of the list (using `del` or `.pop()`)\n",
    "        - (*optional*) if there is still more than one job in the queue, subtract the remaining arrival time from the current job, and add the remaining arrival time to the processing time\n",
    "\t\t- return the number of jobs completed and the processing time for this step"
   ]
  },
  {
   "cell_type": "code",
   "execution_count": null,
   "metadata": {
    "deletable": false,
    "editable": false,
    "nbgrader": {
     "cell_type": "code",
     "checksum": "a612adb3139159516428be4df24ae831",
     "grade": false,
     "grade_id": "cell-57e4e04bc88aa6d7",
     "locked": true,
     "schema_version": 3,
     "solution": false,
     "task": false
    }
   },
   "outputs": [],
   "source": [
    "import numpy as np\n",
    "import numpy.random as npr\n",
    "import matplotlib.pyplot as plt\n",
    "import sys\n",
    "print(sys.version)"
   ]
  },
  {
   "cell_type": "code",
   "execution_count": null,
   "metadata": {
    "deletable": false,
    "nbgrader": {
     "cell_type": "code",
     "checksum": "a60756294ea55815f873a6a96ea1cab1",
     "grade": false,
     "grade_id": "cell-c3d46a1133ffe865",
     "locked": false,
     "schema_version": 3,
     "solution": true,
     "task": false
    }
   },
   "outputs": [],
   "source": [
    "def queue_step(queue, atime, wtime):\n",
    "    # YOUR CODE HERE\n",
    "    raise NotImplementedError()\n",
    "    return proc_n, proc_t"
   ]
  },
  {
   "cell_type": "code",
   "execution_count": null,
   "metadata": {
    "deletable": false,
    "editable": false,
    "nbgrader": {
     "cell_type": "code",
     "checksum": "e57525c8983e42f05d0b3375608bc517",
     "grade": false,
     "grade_id": "cell-c47b9995b7166bfe",
     "locked": true,
     "schema_version": 3,
     "solution": false,
     "task": false
    }
   },
   "outputs": [],
   "source": [
    "def run_test(q_in,atime,wtime,q_out,proc_n,proc_t,name=None):\n",
    "    \"\"\"testing function\n",
    "    q_in, atime, wtime: input queue, arrival and processing time for the arriving job\n",
    "    q_out, proc_n, proc_t: *expected* values of the ending queue, number of jobs processed,\n",
    "          processing time completed\n",
    "    \"\"\"\n",
    "    proc_n_obs, proc_t_obs = queue_step(q_in,atime,wtime)\n",
    "    ## q_in is modified by queue_step (now equal to *ending* state of the queue)\n",
    "    if q_in != q_out:\n",
    "        raise Exception(f\"expected queue out={q_out}, obs value={q_in}\")\n",
    "    if proc_n_obs!= proc_n:\n",
    "        raise Exception(f\"expected jobs finished={proc_n}, obs value={proc_n_obs}\")\n",
    "    if proc_t_obs!= proc_t:\n",
    "        raise Exception(f\"expected processing time={proc_t}, obs value={proc_t_obs}\")\n",
    "    ## we only get here if nothing went wrong ...\n",
    "    if not name is None:\n",
    "        print(f\"{name}: correct!\")\n",
    "    return True"
   ]
  },
  {
   "cell_type": "code",
   "execution_count": null,
   "metadata": {
    "deletable": false,
    "editable": false,
    "nbgrader": {
     "cell_type": "code",
     "checksum": "5a6dcb610cf7b21fcdc83c70e94e1bee",
     "grade": true,
     "grade_id": "cell-bae4df3d76189090",
     "locked": true,
     "points": 6,
     "schema_version": 3,
     "solution": false,
     "task": false
    }
   },
   "outputs": [],
   "source": [
    "## empty queue; add atime 1, wtime 1; add to queue, no jobs finish, no processing done\n",
    "run_test(q_in=[], atime=1,wtime=1,q_out=[1],proc_n=0,proc_t=0, name=\"empty_11\")\n",
    "## queue with 1 job; add atime 1, wtime 1; 1 job finishes, 1 unit of processing\n",
    "run_test(q_in=[1],atime=1,wtime=1,q_out=[1],proc_n=1,proc_t=1, name=\"1job_11\")\n",
    "## queue with 2 jobs\n",
    "run_test(q_in=[1,1],atime=1,wtime=1,q_out=[1,1],proc_n=1,proc_t=1,name=\"2jobs_11\") \n",
    "## queue with 2 jobs; arrival time =2\n",
    "run_test(q_in=[1,1],atime=2,wtime=1,q_out=[1],proc_n=2,proc_t=2,name=\"2jobs_21\") \n",
    "## queue with 2 jobs; arrival time =0\n",
    "run_test(q_in=[1,1],atime=0,wtime=1,q_out=[1,1,1],proc_n=0,proc_t=0, name=\"2jobs_01\") \n",
    "## queue with 2 jobs; arrival time =3 (still only 2 jobs processed)\n",
    "run_test(q_in=[1,1],atime=3,wtime=1,q_out=[1],proc_n=2,proc_t=2,name=\"2jobs_31\") \n"
   ]
  },
  {
   "cell_type": "markdown",
   "metadata": {
    "deletable": false,
    "editable": false,
    "nbgrader": {
     "cell_type": "markdown",
     "checksum": "4f244307e1675f5081d334e67f01c5dc",
     "grade": false,
     "grade_id": "cell-e4c402c1045644f5",
     "locked": true,
     "schema_version": 3,
     "solution": false,
     "task": false
    }
   },
   "source": [
    "2. Next, write a function `queue_run(queue, atimes, wtimes)` that starts at time 0 with a specified queue and simulates the arrival of a number of jobs with specified arrival times (`atimes`, a list of numeric values) and processing times (`wtimes`, also a list of numeric values). It should raise a `ValueError` if the lengths of `atimes` and `wtimes` are different. It should return a tuple `(proc_n,proc_t,tot_t)` containing (1) the total number of jobs that have been processed at that point; (2) the total amount of time spent processing jobs; and (3) the final time when the last job arrives at the queue (i.e., the sum of the arrival times).\n"
   ]
  },
  {
   "cell_type": "code",
   "execution_count": null,
   "metadata": {
    "deletable": false,
    "nbgrader": {
     "cell_type": "code",
     "checksum": "06664cf6599548b4dc5374341b278ba3",
     "grade": false,
     "grade_id": "cell-cf0fabfd908c2cb1",
     "locked": false,
     "schema_version": 3,
     "solution": true,
     "task": false
    }
   },
   "outputs": [],
   "source": [
    "def queue_run(queue,atimes,wtimes):\n",
    "    # YOUR CODE HERE\n",
    "    raise NotImplementedError()\n",
    "    return proc_n,proc_t,tot_t"
   ]
  },
  {
   "cell_type": "code",
   "execution_count": null,
   "metadata": {},
   "outputs": [],
   "source": [
    "def run_test2(q_in,atimes,wtimes,answer,name=None):\n",
    "    if not name is None:\n",
    "        print(f\"test: {name}\", end=\": \")\n",
    "    a0 = queue_run(q_in,atimes,wtimes)\n",
    "    if a0==answer or a0 in answer:\n",
    "        print(\"correct!\")\n",
    "    else:\n",
    "        print(f\"your answer is {a0}, it should be (one of) {answer}\")\n",
    "    return None"
   ]
  },
  {
   "cell_type": "code",
   "execution_count": null,
   "metadata": {},
   "outputs": [],
   "source": [
    "run_test2([],atimes=[1,1,1,1],wtimes=[1,1,1,1],answer=(3,3,4), name=\"basic queue_run test\")\n",
    "run_test2([],atimes=[1,3,1,2],wtimes=[2,2,2,2],answer=(2,5,7), name=\"basic queue_run test\")\n"
   ]
  },
  {
   "cell_type": "code",
   "execution_count": null,
   "metadata": {
    "deletable": false,
    "editable": false,
    "nbgrader": {
     "cell_type": "code",
     "checksum": "fd1bbcef2fb719caa5297b2181763e10",
     "grade": true,
     "grade_id": "cell-5fd04b722b677d23",
     "locked": true,
     "points": 3,
     "schema_version": 3,
     "solution": false,
     "task": false
    }
   },
   "outputs": [],
   "source": [
    "## 4 jobs arriving at an empty queue: num jobs processed=3, processing time=3, total time=4\n",
    "run_test2([],atimes=[1,1,1,1],wtimes=[1,1,1,1],answer=(3,3,4), name=\"basic queue_run test\")\n",
    "## test that queue_run correctly raises a ValueError when atimes and wtimes lengths differ\n",
    "try:\n",
    "    queue_run([],atimes=[],wtimes=[1])\n",
    "except ValueError:\n",
    "    print(\"queue_run correctly catches unequal length error!\")\n",
    "except Exception:\n",
    "    print(\"queue_run raises wrong kind of error!\")"
   ]
  },
  {
   "cell_type": "code",
   "execution_count": null,
   "metadata": {
    "deletable": false,
    "editable": false,
    "nbgrader": {
     "cell_type": "code",
     "checksum": "114f146dafdc4d13e01674a04de1b5b4",
     "grade": true,
     "grade_id": "cell-e49134b2ce404645",
     "locked": true,
     "points": 1,
     "schema_version": 3,
     "solution": false,
     "task": false
    }
   },
   "outputs": [],
   "source": [
    "print(queue_run([],[1,3,1,2],[2,2,2,2]))\n",
    "\n",
    "## 4 jobs arriving at an empty queue with different arrival times\n",
    "run_test2([],atimes=[1,3,1,2],wtimes=[2,2,2,2],answer=((2,4,7),(2,5,7)),\n",
    "          name=\"queue_run test 2\")"
   ]
  },
  {
   "cell_type": "markdown",
   "metadata": {
    "deletable": false,
    "editable": false,
    "nbgrader": {
     "cell_type": "markdown",
     "checksum": "1cc1be497cb08348657f04d0844be418",
     "grade": false,
     "grade_id": "cell-967dfc39afc24874",
     "locked": true,
     "schema_version": 3,
     "solution": false,
     "task": false
    }
   },
   "source": [
    "3. Write a function `queue_exp_run(n, a, w)` that builds on `queue_run()` to start with an empty queue at time 0 and simulate the arrival of `n` jobs, each with a different exponentially distributed pseudo-random arrival time `a` and a different exponentially distributed pseudo-random processing time `w`. The function should return the same tuple as `queue_run()` (total jobs processed, total processing time, total overall time)\n"
   ]
  },
  {
   "cell_type": "code",
   "execution_count": null,
   "metadata": {
    "deletable": false,
    "nbgrader": {
     "cell_type": "code",
     "checksum": "4547d7ed21804b6a9ca8d25107ad47d0",
     "grade": false,
     "grade_id": "cell-47517e5d8913d7e4",
     "locked": false,
     "schema_version": 3,
     "solution": true,
     "task": false
    }
   },
   "outputs": [],
   "source": [
    "def queue_exp_run(n, a, w):\n",
    "    # YOUR CODE HERE\n",
    "    raise NotImplementedError()"
   ]
  },
  {
   "cell_type": "code",
   "execution_count": null,
   "metadata": {
    "deletable": false,
    "editable": false,
    "nbgrader": {
     "cell_type": "code",
     "checksum": "2bb8fe79b9f2333b119098ed9e06154f",
     "grade": true,
     "grade_id": "cell-197a1b300642d147",
     "locked": true,
     "points": 2,
     "schema_version": 3,
     "solution": false,
     "task": false
    }
   },
   "outputs": [],
   "source": [
    "npr.seed(101)\n",
    "res = queue_exp_run(1000,a=2,w=1)\n",
    "print(res)  ## should be APPROX 1000, 1000, 2000 - at least within 10%\n",
    "np.isclose(res,np.array([1000,1000,2000]),rtol=0.10).all()"
   ]
  },
  {
   "cell_type": "markdown",
   "metadata": {
    "deletable": false,
    "editable": false,
    "nbgrader": {
     "cell_type": "markdown",
     "checksum": "dc79ef0ceb9a3d19b2afadc59583303f",
     "grade": false,
     "grade_id": "cell-808d1a8720744bcf",
     "locked": true,
     "schema_version": 3,
     "solution": false,
     "task": false
    }
   },
   "source": [
    "4. Write a function `queue_summary(vals)` that takes a tuple (`vals`) like the one output by `queue_exp_run()` and `queue_run()` and returns a tuple giving the **throughput** (jobs processed divided by total time) and **utilization** (processing time divided by total time)"
   ]
  },
  {
   "cell_type": "code",
   "execution_count": null,
   "metadata": {
    "deletable": false,
    "nbgrader": {
     "cell_type": "code",
     "checksum": "7f990386e56f15fffbe15d2475f81ef0",
     "grade": false,
     "grade_id": "cell-63d588e7fd91f87a",
     "locked": false,
     "schema_version": 3,
     "solution": true,
     "task": false
    }
   },
   "outputs": [],
   "source": [
    "def queue_summary(vals):\n",
    "    # YOUR CODE HERE\n",
    "    raise NotImplementedError()"
   ]
  },
  {
   "cell_type": "code",
   "execution_count": null,
   "metadata": {
    "deletable": false,
    "editable": false,
    "nbgrader": {
     "cell_type": "code",
     "checksum": "93c1f28efd90613b500762f3918a00ec",
     "grade": true,
     "grade_id": "cell-1773a0abd7f63b7f",
     "locked": true,
     "points": 2,
     "schema_version": 3,
     "solution": false,
     "task": false
    }
   },
   "outputs": [],
   "source": [
    "qvals = queue_run([],[1,1,1,1],[1,1,1,1])\n",
    "## 3 jobs processed in 4 time units. 3/4 of the total time is spent processing\n",
    "queue_summary(qvals) == (0.75, 0.75)"
   ]
  },
  {
   "cell_type": "markdown",
   "metadata": {
    "deletable": false,
    "editable": false,
    "nbgrader": {
     "cell_type": "markdown",
     "checksum": "2efa97974b1618abe5c200e91f96689b",
     "grade": false,
     "grade_id": "cell-6b7c285791684618",
     "locked": true,
     "schema_version": 3,
     "solution": false,
     "task": false
    }
   },
   "source": [
    "5. Use all the functions you've written so far to create a 3D numpy array `ans` with two slices, 5 rows, and 2 columns that stores the results from exponential queue simulations with `n=1000` steps.  The answers stored in the first slice should use an expected processing time of $w=1$, those in the second slice should use $w=0.5$.  The rows of each slice use exponential arrival times of $a=$2, 3, 4, 5, and 6. The first column of each slice holds the throughput; the second column of each slice holds the utilization.\n"
   ]
  },
  {
   "cell_type": "code",
   "execution_count": null,
   "metadata": {
    "deletable": false,
    "nbgrader": {
     "cell_type": "code",
     "checksum": "d3c83c793f7ec23bb63d4e60cab378cd",
     "grade": false,
     "grade_id": "cell-37dc26f99b9f8951",
     "locked": false,
     "schema_version": 3,
     "solution": true,
     "task": false
    }
   },
   "outputs": [],
   "source": [
    "a_vec = np.arange(2,7)\n",
    "w_vec = (1,0.5)\n",
    "# YOUR CODE HERE\n",
    "raise NotImplementedError()\n",
    "print(ans)"
   ]
  },
  {
   "cell_type": "code",
   "execution_count": null,
   "metadata": {
    "deletable": false,
    "editable": false,
    "nbgrader": {
     "cell_type": "code",
     "checksum": "e383983e320bcfc445d73a625ce96b65",
     "grade": true,
     "grade_id": "cell-cbdbd4642445c36a",
     "locked": true,
     "points": 2,
     "schema_version": 3,
     "solution": false,
     "task": false
    }
   },
   "outputs": [],
   "source": [
    "atype = type(ans).__name__\n",
    "if atype==\"ndarray\":\n",
    "    print(\"answer is correct type!\")\n",
    "else:\n",
    "    print(\"answer is wrong type (should be 'ndarray', actually {atype})\")\n",
    "if ans.shape==(2,5,2):\n",
    "    print(\"answer is correct shape!\")\n",
    "else:\n",
    "    print(\"answer is wrong shape (should be (2,5,2), actually {ans.shape})\")"
   ]
  },
  {
   "cell_type": "markdown",
   "metadata": {
    "deletable": false,
    "editable": false,
    "nbgrader": {
     "cell_type": "markdown",
     "checksum": "1e600125476123d0a8ad4c04f00a3c5c",
     "grade": false,
     "grade_id": "cell-189267bf932e5cf6",
     "locked": true,
     "schema_version": 3,
     "solution": false,
     "task": false
    }
   },
   "source": [
    "The next code cell creates an array that holds the theoretical values expected for the throughput and utilization of the simulations you have just run, and compares them *approximately* to the values stored in `ans`"
   ]
  },
  {
   "cell_type": "code",
   "execution_count": null,
   "metadata": {
    "deletable": false,
    "editable": false,
    "nbgrader": {
     "cell_type": "code",
     "checksum": "82be8eb0748ee867e464c10ec44c492b",
     "grade": true,
     "grade_id": "cell-49b0cdcb3c4c8fba",
     "locked": true,
     "points": 0,
     "schema_version": 3,
     "solution": false,
     "task": false
    }
   },
   "outputs": [],
   "source": [
    "theor_vals = np.zeros((2,5,2))\n",
    "theor_vals[0,:,0] = 1/a_vec   ## throughput,  w=1\n",
    "theor_vals[0,:,1] = 1/a_vec   ## utilization, w=1\n",
    "theor_vals[1,:,0] = 1/a_vec   ## throughput,  w=0.5\n",
    "theor_vals[1,:,1] = 0.5/a_vec ## utilization, w=0.5\n",
    "print(theor_vals)\n",
    "## are all of the simulated answers within 15% of theoretical values?\n",
    "if np.isclose(ans,theor_vals,rtol=0.15).all():\n",
    "    print(\"all values are close!\")\n",
    "else:\n",
    "    print(\"some differences are larger than expected! relative differences:\")\n",
    "    print(round((ans-theor_vals)/theor_vals,2))"
   ]
  },
  {
   "cell_type": "markdown",
   "metadata": {
    "deletable": false,
    "editable": false,
    "nbgrader": {
     "cell_type": "markdown",
     "checksum": "3f9051c032a5be9fba40e788d5b31925",
     "grade": false,
     "grade_id": "cell-14d38bba15282735",
     "locked": true,
     "schema_version": 3,
     "solution": false,
     "task": false
    }
   },
   "source": [
    "This next part isn't tested; it just shows how you might use `matplotlib.pyplot` to plot the results of your simulations."
   ]
  },
  {
   "cell_type": "code",
   "execution_count": null,
   "metadata": {
    "deletable": false,
    "editable": false,
    "nbgrader": {
     "cell_type": "code",
     "checksum": "ab3b340e3a511b142be504962c0bf8fb",
     "grade": false,
     "grade_id": "cell-c8f2cfc1c2d3a427",
     "locked": true,
     "schema_version": 3,
     "solution": false,
     "task": false
    }
   },
   "outputs": [],
   "source": [
    "fig, ax = plt.subplots(1,2)\n",
    "ax[0].plot(a_vec,ans[0,:,0],label=\"w=1\")\n",
    "ax[0].plot(a_vec,ans[1,:,0],label=\"w=0.5\")\n",
    "ax[0].set_title(\"throughput\")\n",
    "ax[0].set_xlabel(\"arrival time\")\n",
    "ax[1].plot(a_vec,ans[0,:,1],label=\"w=1\")\n",
    "ax[1].plot(a_vec,ans[1,:,1],label=\"w=0.5\")\n",
    "ax[1].set_title(\"utilization\")\n",
    "ax[1].set_xlabel(\"arrival time\")\n",
    "ax[1].legend();"
   ]
  }
 ],
 "metadata": {
  "kernelspec": {
   "display_name": "Python 3",
   "language": "python",
   "name": "python3"
  },
  "language_info": {
   "codemirror_mode": {
    "name": "ipython",
    "version": 3
   },
   "file_extension": ".py",
   "mimetype": "text/x-python",
   "name": "python",
   "nbconvert_exporter": "python",
   "pygments_lexer": "ipython3",
   "version": "3.8.0"
  }
 },
 "nbformat": 4,
 "nbformat_minor": 2
}

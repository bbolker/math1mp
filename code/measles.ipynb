{
 "cells": [
  {
   "cell_type": "code",
   "execution_count": 1,
   "metadata": {},
   "outputs": [
    {
     "data": {
      "text/plain": [
       "'3.8.0 (default, Oct 14 2019, 23:13:30) \\n[GCC 5.4.0 20160609]'"
      ]
     },
     "execution_count": 1,
     "metadata": {},
     "output_type": "execute_result"
    }
   ],
   "source": [
    "import sys\n",
    "sys.version"
   ]
  },
  {
   "cell_type": "code",
   "execution_count": 2,
   "metadata": {},
   "outputs": [],
   "source": [
    "import pandas as pd\n",
    "import numpy as np\n",
    "import matplotlib.pyplot as plt\n",
    "fn = \"../data/MEASLES_Cases_1909-2001_20150322001618.csv\"\n",
    "p = pd.read_csv(fn,skiprows=2,na_values=[\"-\"])\n"
   ]
  },
  {
   "cell_type": "code",
   "execution_count": 3,
   "metadata": {},
   "outputs": [
    {
     "data": {
      "text/plain": [
       "(4861, 60)"
      ]
     },
     "execution_count": 3,
     "metadata": {},
     "output_type": "execute_result"
    }
   ],
   "source": [
    "pp = p.loc[:,\"ALABAMA\":]\n",
    "num_nan = np.isnan(pp).sum(axis=1)\n",
    "num_nan.head()\n",
    "pp.shape"
   ]
  },
  {
   "cell_type": "code",
   "execution_count": 4,
   "metadata": {},
   "outputs": [
    {
     "data": {
      "text/plain": [
       "(3569, 60)"
      ]
     },
     "execution_count": 4,
     "metadata": {},
     "output_type": "execute_result"
    }
   ],
   "source": [
    "pp2 = pp[num_nan<pp.shape[1]]\n",
    "pp2.shape"
   ]
  },
  {
   "cell_type": "code",
   "execution_count": 5,
   "metadata": {},
   "outputs": [
    {
     "data": {
      "text/plain": [
       "53000.0"
      ]
     },
     "execution_count": 5,
     "metadata": {},
     "output_type": "execute_result"
    }
   ],
   "source": [
    "pmax = pp2.max(axis=1)\n",
    "min(pmax)\n",
    "max(pmax)"
   ]
  },
  {
   "cell_type": "code",
   "execution_count": 6,
   "metadata": {},
   "outputs": [
    {
     "data": {
      "text/plain": [
       "(array([142., 302., 339., 439., 664., 573., 547., 532.,  30.,   1.]),\n",
       " array([0.        , 0.47242841, 0.94485681, 1.41728522, 1.88971363,\n",
       "        2.36214203, 2.83457044, 3.30699884, 3.77942725, 4.25185566,\n",
       "        4.72428406]),\n",
       " <a list of 10 Patch objects>)"
      ]
     },
     "execution_count": 6,
     "metadata": {},
     "output_type": "execute_result"
    },
    {
     "data": {
      "image/png": "[encoded data removed]",
      "text/plain": [
       "<Figure size 432x288 with 1 Axes>"
      ]
     },
     "metadata": {
      "needs_background": "light"
     },
     "output_type": "display_data"
    }
   ],
   "source": [
    "plt.hist(np.log10(pmax+1))"
   ]
  },
  {
   "cell_type": "code",
   "execution_count": 7,
   "metadata": {},
   "outputs": [
    {
     "data": {
      "text/html": [
       "<div>\n",
       "<style scoped>\n",
       "    .dataframe tbody tr th:only-of-type {\n",
       "        vertical-align: middle;\n",
       "    }\n",
       "\n",
       "    .dataframe tbody tr th {\n",
       "        vertical-align: top;\n",
       "    }\n",
       "\n",
       "    .dataframe thead th {\n",
       "        text-align: right;\n",
       "    }\n",
       "</style>\n",
       "<table border=\"1\" class=\"dataframe\">\n",
       "  <thead>\n",
       "    <tr style=\"text-align: right;\">\n",
       "      <th></th>\n",
       "      <th>ALABAMA</th>\n",
       "      <th>ALASKA</th>\n",
       "      <th>AMERICAN SAMOA</th>\n",
       "      <th>ARIZONA</th>\n",
       "      <th>ARKANSAS</th>\n",
       "      <th>CALIFORNIA</th>\n",
       "      <th>COLORADO</th>\n",
       "      <th>CONNECTICUT</th>\n",
       "      <th>DELAWARE</th>\n",
       "      <th>DISTRICT OF COLUMBIA</th>\n",
       "      <th>...</th>\n",
       "      <th>UPSTATE NEW YORK</th>\n",
       "      <th>UTAH</th>\n",
       "      <th>VERMONT</th>\n",
       "      <th>VIRGIN ISLANDS</th>\n",
       "      <th>VIRGINIA</th>\n",
       "      <th>WASHINGTON</th>\n",
       "      <th>WEST VIRGINIA</th>\n",
       "      <th>WISCONSIN</th>\n",
       "      <th>WYOMING</th>\n",
       "      <th>Unnamed: 61</th>\n",
       "    </tr>\n",
       "  </thead>\n",
       "  <tbody>\n",
       "    <tr>\n",
       "      <th>2355</th>\n",
       "      <td>510.0</td>\n",
       "      <td>19.0</td>\n",
       "      <td>NaN</td>\n",
       "      <td>109.0</td>\n",
       "      <td>124.0</td>\n",
       "      <td>1569.0</td>\n",
       "      <td>96.0</td>\n",
       "      <td>21.0</td>\n",
       "      <td>13.0</td>\n",
       "      <td>75.0</td>\n",
       "      <td>...</td>\n",
       "      <td>NaN</td>\n",
       "      <td>264.0</td>\n",
       "      <td>36.0</td>\n",
       "      <td>NaN</td>\n",
       "      <td>592.0</td>\n",
       "      <td>675.0</td>\n",
       "      <td>129.0</td>\n",
       "      <td>292.0</td>\n",
       "      <td>37.0</td>\n",
       "      <td>NaN</td>\n",
       "    </tr>\n",
       "    <tr>\n",
       "      <th>3494</th>\n",
       "      <td>NaN</td>\n",
       "      <td>NaN</td>\n",
       "      <td>NaN</td>\n",
       "      <td>NaN</td>\n",
       "      <td>NaN</td>\n",
       "      <td>5.0</td>\n",
       "      <td>NaN</td>\n",
       "      <td>NaN</td>\n",
       "      <td>NaN</td>\n",
       "      <td>NaN</td>\n",
       "      <td>...</td>\n",
       "      <td>6.0</td>\n",
       "      <td>NaN</td>\n",
       "      <td>1.0</td>\n",
       "      <td>53000.0</td>\n",
       "      <td>NaN</td>\n",
       "      <td>NaN</td>\n",
       "      <td>6.0</td>\n",
       "      <td>18.0</td>\n",
       "      <td>NaN</td>\n",
       "      <td>NaN</td>\n",
       "    </tr>\n",
       "  </tbody>\n",
       "</table>\n",
       "<p>2 rows × 60 columns</p>\n",
       "</div>"
      ],
      "text/plain": [
       "      ALABAMA  ALASKA  AMERICAN SAMOA  ARIZONA  ARKANSAS  CALIFORNIA  \\\n",
       "2355    510.0    19.0             NaN    109.0     124.0      1569.0   \n",
       "3494      NaN     NaN             NaN      NaN       NaN         5.0   \n",
       "\n",
       "      COLORADO  CONNECTICUT  DELAWARE  DISTRICT OF COLUMBIA  ...  \\\n",
       "2355      96.0         21.0      13.0                  75.0  ...   \n",
       "3494       NaN          NaN       NaN                   NaN  ...   \n",
       "\n",
       "      UPSTATE NEW YORK   UTAH  VERMONT  VIRGIN ISLANDS  VIRGINIA  WASHINGTON  \\\n",
       "2355               NaN  264.0     36.0             NaN     592.0       675.0   \n",
       "3494               6.0    NaN      1.0         53000.0       NaN         NaN   \n",
       "\n",
       "      WEST VIRGINIA  WISCONSIN  WYOMING  Unnamed: 61  \n",
       "2355          129.0      292.0     37.0          NaN  \n",
       "3494            6.0       18.0      NaN          NaN  \n",
       "\n",
       "[2 rows x 60 columns]"
      ]
     },
     "execution_count": 7,
     "metadata": {},
     "output_type": "execute_result"
    }
   ],
   "source": [
    "pp2[pmax>10000]"
   ]
  },
  {
   "cell_type": "code",
   "execution_count": 8,
   "metadata": {},
   "outputs": [
    {
     "data": {
      "text/plain": [
       "ALABAMA                      7101.0\n",
       "ALASKA                        232.0\n",
       "AMERICAN SAMOA                  1.0\n",
       "ARIZONA                       977.0\n",
       "ARKANSAS                     1536.0\n",
       "CALIFORNIA                   6930.0\n",
       "COLORADO                     2112.0\n",
       "CONNECTICUT                  2228.0\n",
       "DELAWARE                      431.0\n",
       "DISTRICT OF COLUMBIA          752.0\n",
       "FLORIDA                      1721.0\n",
       "GEORGIA                      2122.0\n",
       "GUAM                           48.0\n",
       "HAWAII                        784.0\n",
       "IDAHO                         446.0\n",
       "ILLINOIS                     6933.0\n",
       "INDIANA                      2319.0\n",
       "IOWA                         5251.0\n",
       "KANSAS                       1785.0\n",
       "KENTUCKY                    10402.0\n",
       "LOUISIANA                    1308.0\n",
       "MAINE                         839.0\n",
       "MARYLAND                     2597.0\n",
       "MASSACHUSETTS                3662.0\n",
       "MICHIGAN                     6587.0\n",
       "MINNESOTA                    2452.0\n",
       "MISSISSIPPI                  1760.0\n",
       "MISSOURI                     1778.0\n",
       "MONTANA                       648.0\n",
       "NEBRASKA                      826.0\n",
       "NEVADA                        355.0\n",
       "NEW HAMPSHIRE                 616.0\n",
       "NEW JERSEY                   5022.0\n",
       "NEW MEXICO                   1313.0\n",
       "NEW YORK                     8831.0\n",
       "NEW YORK CITY                1199.0\n",
       "NORTH CAROLINA               4734.0\n",
       "NORTH DAKOTA                  465.0\n",
       "NORTHERN MARIANA ISLANDS       18.0\n",
       "OHIO                         9278.0\n",
       "OKLAHOMA                     1025.0\n",
       "OREGON                       1006.0\n",
       "PAC TRUST TERR                 22.0\n",
       "PENNSYLVANIA                 7982.0\n",
       "PUERTO RICO                  1101.0\n",
       "RHODE ISLAND                 1056.0\n",
       "SOUTH CAROLINA               1459.0\n",
       "SOUTH DAKOTA                  837.0\n",
       "TENNESSEE                    1749.0\n",
       "TEXAS                        6795.0\n",
       "UPSTATE NEW YORK              734.0\n",
       "UTAH                         1446.0\n",
       "VERMONT                       852.0\n",
       "VIRGIN ISLANDS              53000.0\n",
       "VIRGINIA                     2619.0\n",
       "WASHINGTON                   1507.0\n",
       "WEST VIRGINIA                1377.0\n",
       "WISCONSIN                    5225.0\n",
       "WYOMING                       308.0\n",
       "Unnamed: 61                     NaN\n",
       "dtype: float64"
      ]
     },
     "execution_count": 8,
     "metadata": {},
     "output_type": "execute_result"
    }
   ],
   "source": [
    "pmaxc = pp2.max(axis=0)\n",
    "pmaxc"
   ]
  },
  {
   "cell_type": "code",
   "execution_count": 9,
   "metadata": {},
   "outputs": [
    {
     "data": {
      "text/plain": [
       "<matplotlib.axes._subplots.AxesSubplot at 0x7fed876cc5b0>"
      ]
     },
     "execution_count": 9,
     "metadata": {},
     "output_type": "execute_result"
    },
    {
     "data": {
      "image/png": "[encoded data removed]",
      "text/plain": [
       "<Figure size 432x288 with 1 Axes>"
      ]
     },
     "metadata": {
      "needs_background": "light"
     },
     "output_type": "display_data"
    }
   ],
   "source": [
    "p.KENTUCKY.plot()"
   ]
  },
  {
   "cell_type": "code",
   "execution_count": 12,
   "metadata": {},
   "outputs": [
    {
     "name": "stderr",
     "output_type": "stream",
     "text": [
      "<ipython-input-12-a6862319c32c>:1: SettingWithCopyWarning: \n",
      "A value is trying to be set on a copy of a slice from a DataFrame\n",
      "\n",
      "See the caveats in the documentation: http://pandas.pydata.org/pandas-docs/stable/user_guide/indexing.html#returning-a-view-versus-a-copy\n",
      "  pp2.loc[pp2[\"KENTUCKY\"]>10000,\"KENTUCKY\"]=np.NaN\n"
     ]
    }
   ],
   "source": [
    "pp2.loc[pp2[\"KENTUCKY\"]>10000,\"KENTUCKY\"]=np.NaN"
   ]
  },
  {
   "cell_type": "code",
   "execution_count": 16,
   "metadata": {},
   "outputs": [
    {
     "name": "stdout",
     "output_type": "stream",
     "text": [
      "nan\n"
     ]
    },
    {
     "data": {
      "text/plain": [
       "2699.0"
      ]
     },
     "execution_count": 16,
     "metadata": {},
     "output_type": "execute_result"
    }
   ],
   "source": [
    "print(max(pp2.KENTUCKY))\n",
    "pp2.KENTUCKY.max()"
   ]
  },
  {
   "cell_type": "code",
   "execution_count": 25,
   "metadata": {},
   "outputs": [
    {
     "data": {
      "text/plain": [
       "53000.0"
      ]
     },
     "execution_count": 25,
     "metadata": {},
     "output_type": "execute_result"
    }
   ],
   "source": [
    "max(pp2.max())"
   ]
  },
  {
   "cell_type": "code",
   "execution_count": 30,
   "metadata": {},
   "outputs": [],
   "source": [
    "p[\"CAT\"] = pd.qcut(p.YEAR,q=3)"
   ]
  },
  {
   "cell_type": "code",
   "execution_count": 31,
   "metadata": {},
   "outputs": [
    {
     "data": {
      "text/plain": [
       "Index(['YEAR', 'WEEK', 'ALABAMA', 'ALASKA', 'AMERICAN SAMOA', 'ARIZONA',\n",
       "       'ARKANSAS', 'CALIFORNIA', 'COLORADO', 'CONNECTICUT', 'DELAWARE',\n",
       "       'DISTRICT OF COLUMBIA', 'FLORIDA', 'GEORGIA', 'GUAM', 'HAWAII', 'IDAHO',\n",
       "       'ILLINOIS', 'INDIANA', 'IOWA', 'KANSAS', 'KENTUCKY', 'LOUISIANA',\n",
       "       'MAINE', 'MARYLAND', 'MASSACHUSETTS', 'MICHIGAN', 'MINNESOTA',\n",
       "       'MISSISSIPPI', 'MISSOURI', 'MONTANA', 'NEBRASKA', 'NEVADA',\n",
       "       'NEW HAMPSHIRE', 'NEW JERSEY', 'NEW MEXICO', 'NEW YORK',\n",
       "       'NEW YORK CITY', 'NORTH CAROLINA', 'NORTH DAKOTA',\n",
       "       'NORTHERN MARIANA ISLANDS', 'OHIO', 'OKLAHOMA', 'OREGON',\n",
       "       'PAC TRUST TERR', 'PENNSYLVANIA', 'PUERTO RICO', 'RHODE ISLAND',\n",
       "       'SOUTH CAROLINA', 'SOUTH DAKOTA', 'TENNESSEE', 'TEXAS',\n",
       "       'UPSTATE NEW YORK', 'UTAH', 'VERMONT', 'VIRGIN ISLANDS', 'VIRGINIA',\n",
       "       'WASHINGTON', 'WEST VIRGINIA', 'WISCONSIN', 'WYOMING', 'Unnamed: 61',\n",
       "       'CAT'],\n",
       "      dtype='object')"
      ]
     },
     "execution_count": 31,
     "metadata": {},
     "output_type": "execute_result"
    }
   ],
   "source": [
    "p.columns"
   ]
  },
  {
   "cell_type": "code",
   "execution_count": 37,
   "metadata": {},
   "outputs": [
    {
     "data": {
      "text/html": [
       "<div>\n",
       "<style scoped>\n",
       "    .dataframe tbody tr th:only-of-type {\n",
       "        vertical-align: middle;\n",
       "    }\n",
       "\n",
       "    .dataframe tbody tr th {\n",
       "        vertical-align: top;\n",
       "    }\n",
       "\n",
       "    .dataframe thead th {\n",
       "        text-align: right;\n",
       "    }\n",
       "</style>\n",
       "<table border=\"1\" class=\"dataframe\">\n",
       "  <thead>\n",
       "    <tr style=\"text-align: right;\">\n",
       "      <th></th>\n",
       "      <th></th>\n",
       "      <th>YEAR</th>\n",
       "      <th>ALABAMA</th>\n",
       "      <th>ALASKA</th>\n",
       "      <th>AMERICAN SAMOA</th>\n",
       "      <th>ARIZONA</th>\n",
       "      <th>ARKANSAS</th>\n",
       "      <th>CALIFORNIA</th>\n",
       "      <th>COLORADO</th>\n",
       "      <th>CONNECTICUT</th>\n",
       "      <th>DELAWARE</th>\n",
       "      <th>...</th>\n",
       "      <th>UPSTATE NEW YORK</th>\n",
       "      <th>UTAH</th>\n",
       "      <th>VERMONT</th>\n",
       "      <th>VIRGIN ISLANDS</th>\n",
       "      <th>VIRGINIA</th>\n",
       "      <th>WASHINGTON</th>\n",
       "      <th>WEST VIRGINIA</th>\n",
       "      <th>WISCONSIN</th>\n",
       "      <th>WYOMING</th>\n",
       "      <th>Unnamed: 61</th>\n",
       "    </tr>\n",
       "    <tr>\n",
       "      <th>WEEK</th>\n",
       "      <th>CAT</th>\n",
       "      <th></th>\n",
       "      <th></th>\n",
       "      <th></th>\n",
       "      <th></th>\n",
       "      <th></th>\n",
       "      <th></th>\n",
       "      <th></th>\n",
       "      <th></th>\n",
       "      <th></th>\n",
       "      <th></th>\n",
       "      <th></th>\n",
       "      <th></th>\n",
       "      <th></th>\n",
       "      <th></th>\n",
       "      <th></th>\n",
       "      <th></th>\n",
       "      <th></th>\n",
       "      <th></th>\n",
       "      <th></th>\n",
       "      <th></th>\n",
       "      <th></th>\n",
       "    </tr>\n",
       "  </thead>\n",
       "  <tbody>\n",
       "    <tr>\n",
       "      <th rowspan=\"3\" valign=\"top\">1</th>\n",
       "      <th>(1908.999, 1940.0]</th>\n",
       "      <td>61584</td>\n",
       "      <td>1021.0</td>\n",
       "      <td>0.0</td>\n",
       "      <td>0.0</td>\n",
       "      <td>184.0</td>\n",
       "      <td>571.0</td>\n",
       "      <td>3053.0</td>\n",
       "      <td>836.0</td>\n",
       "      <td>2095.0</td>\n",
       "      <td>325.0</td>\n",
       "      <td>...</td>\n",
       "      <td>0.0</td>\n",
       "      <td>903.0</td>\n",
       "      <td>784.0</td>\n",
       "      <td>0.0</td>\n",
       "      <td>1042.0</td>\n",
       "      <td>1955.0</td>\n",
       "      <td>1395.0</td>\n",
       "      <td>2736.0</td>\n",
       "      <td>105.0</td>\n",
       "      <td>0.0</td>\n",
       "    </tr>\n",
       "    <tr>\n",
       "      <th>(1940.0, 1971.0]</th>\n",
       "      <td>62602</td>\n",
       "      <td>1420.0</td>\n",
       "      <td>429.0</td>\n",
       "      <td>0.0</td>\n",
       "      <td>1708.0</td>\n",
       "      <td>1040.0</td>\n",
       "      <td>7841.0</td>\n",
       "      <td>2018.0</td>\n",
       "      <td>3364.0</td>\n",
       "      <td>257.0</td>\n",
       "      <td>...</td>\n",
       "      <td>609.0</td>\n",
       "      <td>2039.0</td>\n",
       "      <td>1571.0</td>\n",
       "      <td>1.0</td>\n",
       "      <td>3410.0</td>\n",
       "      <td>4052.0</td>\n",
       "      <td>4596.0</td>\n",
       "      <td>8721.0</td>\n",
       "      <td>724.0</td>\n",
       "      <td>0.0</td>\n",
       "    </tr>\n",
       "    <tr>\n",
       "      <th>(1971.0, 2001.0]</th>\n",
       "      <td>59595</td>\n",
       "      <td>2.0</td>\n",
       "      <td>0.0</td>\n",
       "      <td>0.0</td>\n",
       "      <td>15.0</td>\n",
       "      <td>0.0</td>\n",
       "      <td>247.0</td>\n",
       "      <td>52.0</td>\n",
       "      <td>42.0</td>\n",
       "      <td>1.0</td>\n",
       "      <td>...</td>\n",
       "      <td>57.0</td>\n",
       "      <td>80.0</td>\n",
       "      <td>0.0</td>\n",
       "      <td>0.0</td>\n",
       "      <td>7.0</td>\n",
       "      <td>68.0</td>\n",
       "      <td>36.0</td>\n",
       "      <td>116.0</td>\n",
       "      <td>0.0</td>\n",
       "      <td>0.0</td>\n",
       "    </tr>\n",
       "    <tr>\n",
       "      <th rowspan=\"2\" valign=\"top\">2</th>\n",
       "      <th>(1908.999, 1940.0]</th>\n",
       "      <td>61584</td>\n",
       "      <td>1271.0</td>\n",
       "      <td>0.0</td>\n",
       "      <td>0.0</td>\n",
       "      <td>257.0</td>\n",
       "      <td>1177.0</td>\n",
       "      <td>5572.0</td>\n",
       "      <td>1032.0</td>\n",
       "      <td>2189.0</td>\n",
       "      <td>399.0</td>\n",
       "      <td>...</td>\n",
       "      <td>0.0</td>\n",
       "      <td>1037.0</td>\n",
       "      <td>680.0</td>\n",
       "      <td>0.0</td>\n",
       "      <td>1292.0</td>\n",
       "      <td>2696.0</td>\n",
       "      <td>1807.0</td>\n",
       "      <td>3508.0</td>\n",
       "      <td>106.0</td>\n",
       "      <td>0.0</td>\n",
       "    </tr>\n",
       "    <tr>\n",
       "      <th>(1940.0, 1971.0]</th>\n",
       "      <td>60636</td>\n",
       "      <td>1451.0</td>\n",
       "      <td>475.0</td>\n",
       "      <td>0.0</td>\n",
       "      <td>2078.0</td>\n",
       "      <td>1393.0</td>\n",
       "      <td>10663.0</td>\n",
       "      <td>2696.0</td>\n",
       "      <td>4447.0</td>\n",
       "      <td>284.0</td>\n",
       "      <td>...</td>\n",
       "      <td>445.0</td>\n",
       "      <td>2186.0</td>\n",
       "      <td>1757.0</td>\n",
       "      <td>1.0</td>\n",
       "      <td>4354.0</td>\n",
       "      <td>5710.0</td>\n",
       "      <td>3980.0</td>\n",
       "      <td>11865.0</td>\n",
       "      <td>462.0</td>\n",
       "      <td>0.0</td>\n",
       "    </tr>\n",
       "    <tr>\n",
       "      <th>...</th>\n",
       "      <th>...</th>\n",
       "      <td>...</td>\n",
       "      <td>...</td>\n",
       "      <td>...</td>\n",
       "      <td>...</td>\n",
       "      <td>...</td>\n",
       "      <td>...</td>\n",
       "      <td>...</td>\n",
       "      <td>...</td>\n",
       "      <td>...</td>\n",
       "      <td>...</td>\n",
       "      <td>...</td>\n",
       "      <td>...</td>\n",
       "      <td>...</td>\n",
       "      <td>...</td>\n",
       "      <td>...</td>\n",
       "      <td>...</td>\n",
       "      <td>...</td>\n",
       "      <td>...</td>\n",
       "      <td>...</td>\n",
       "      <td>...</td>\n",
       "      <td>...</td>\n",
       "    </tr>\n",
       "    <tr>\n",
       "      <th rowspan=\"2\" valign=\"top\">52</th>\n",
       "      <th>(1940.0, 1971.0]</th>\n",
       "      <td>60636</td>\n",
       "      <td>689.0</td>\n",
       "      <td>267.0</td>\n",
       "      <td>0.0</td>\n",
       "      <td>927.0</td>\n",
       "      <td>930.0</td>\n",
       "      <td>4538.0</td>\n",
       "      <td>1409.0</td>\n",
       "      <td>1857.0</td>\n",
       "      <td>122.0</td>\n",
       "      <td>...</td>\n",
       "      <td>156.0</td>\n",
       "      <td>1262.0</td>\n",
       "      <td>899.0</td>\n",
       "      <td>0.0</td>\n",
       "      <td>2459.0</td>\n",
       "      <td>2236.0</td>\n",
       "      <td>1665.0</td>\n",
       "      <td>5748.0</td>\n",
       "      <td>545.0</td>\n",
       "      <td>0.0</td>\n",
       "    </tr>\n",
       "    <tr>\n",
       "      <th>(1971.0, 2001.0]</th>\n",
       "      <td>59595</td>\n",
       "      <td>0.0</td>\n",
       "      <td>0.0</td>\n",
       "      <td>0.0</td>\n",
       "      <td>0.0</td>\n",
       "      <td>0.0</td>\n",
       "      <td>349.0</td>\n",
       "      <td>19.0</td>\n",
       "      <td>4.0</td>\n",
       "      <td>1.0</td>\n",
       "      <td>...</td>\n",
       "      <td>107.0</td>\n",
       "      <td>64.0</td>\n",
       "      <td>25.0</td>\n",
       "      <td>0.0</td>\n",
       "      <td>12.0</td>\n",
       "      <td>17.0</td>\n",
       "      <td>6.0</td>\n",
       "      <td>168.0</td>\n",
       "      <td>8.0</td>\n",
       "      <td>0.0</td>\n",
       "    </tr>\n",
       "    <tr>\n",
       "      <th rowspan=\"3\" valign=\"top\">53</th>\n",
       "      <th>(1908.999, 1940.0]</th>\n",
       "      <td>9622</td>\n",
       "      <td>235.0</td>\n",
       "      <td>0.0</td>\n",
       "      <td>0.0</td>\n",
       "      <td>133.0</td>\n",
       "      <td>2.0</td>\n",
       "      <td>211.0</td>\n",
       "      <td>47.0</td>\n",
       "      <td>325.0</td>\n",
       "      <td>85.0</td>\n",
       "      <td>...</td>\n",
       "      <td>0.0</td>\n",
       "      <td>85.0</td>\n",
       "      <td>8.0</td>\n",
       "      <td>0.0</td>\n",
       "      <td>67.0</td>\n",
       "      <td>44.0</td>\n",
       "      <td>30.0</td>\n",
       "      <td>181.0</td>\n",
       "      <td>4.0</td>\n",
       "      <td>0.0</td>\n",
       "    </tr>\n",
       "    <tr>\n",
       "      <th>(1940.0, 1971.0]</th>\n",
       "      <td>11731</td>\n",
       "      <td>32.0</td>\n",
       "      <td>0.0</td>\n",
       "      <td>0.0</td>\n",
       "      <td>28.0</td>\n",
       "      <td>76.0</td>\n",
       "      <td>813.0</td>\n",
       "      <td>401.0</td>\n",
       "      <td>53.0</td>\n",
       "      <td>7.0</td>\n",
       "      <td>...</td>\n",
       "      <td>0.0</td>\n",
       "      <td>45.0</td>\n",
       "      <td>5.0</td>\n",
       "      <td>0.0</td>\n",
       "      <td>121.0</td>\n",
       "      <td>22.0</td>\n",
       "      <td>270.0</td>\n",
       "      <td>0.0</td>\n",
       "      <td>4.0</td>\n",
       "      <td>0.0</td>\n",
       "    </tr>\n",
       "    <tr>\n",
       "      <th>(1971.0, 2001.0]</th>\n",
       "      <td>9930</td>\n",
       "      <td>0.0</td>\n",
       "      <td>0.0</td>\n",
       "      <td>0.0</td>\n",
       "      <td>1.0</td>\n",
       "      <td>0.0</td>\n",
       "      <td>17.0</td>\n",
       "      <td>0.0</td>\n",
       "      <td>0.0</td>\n",
       "      <td>0.0</td>\n",
       "      <td>...</td>\n",
       "      <td>4.0</td>\n",
       "      <td>0.0</td>\n",
       "      <td>0.0</td>\n",
       "      <td>0.0</td>\n",
       "      <td>0.0</td>\n",
       "      <td>0.0</td>\n",
       "      <td>0.0</td>\n",
       "      <td>0.0</td>\n",
       "      <td>0.0</td>\n",
       "      <td>0.0</td>\n",
       "    </tr>\n",
       "  </tbody>\n",
       "</table>\n",
       "<p>159 rows × 61 columns</p>\n",
       "</div>"
      ],
      "text/plain": [
       "                          YEAR  ALABAMA  ALASKA  AMERICAN SAMOA  ARIZONA  \\\n",
       "WEEK CAT                                                                   \n",
       "1    (1908.999, 1940.0]  61584   1021.0     0.0             0.0    184.0   \n",
       "     (1940.0, 1971.0]    62602   1420.0   429.0             0.0   1708.0   \n",
       "     (1971.0, 2001.0]    59595      2.0     0.0             0.0     15.0   \n",
       "2    (1908.999, 1940.0]  61584   1271.0     0.0             0.0    257.0   \n",
       "     (1940.0, 1971.0]    60636   1451.0   475.0             0.0   2078.0   \n",
       "...                        ...      ...     ...             ...      ...   \n",
       "52   (1940.0, 1971.0]    60636    689.0   267.0             0.0    927.0   \n",
       "     (1971.0, 2001.0]    59595      0.0     0.0             0.0      0.0   \n",
       "53   (1908.999, 1940.0]   9622    235.0     0.0             0.0    133.0   \n",
       "     (1940.0, 1971.0]    11731     32.0     0.0             0.0     28.0   \n",
       "     (1971.0, 2001.0]     9930      0.0     0.0             0.0      1.0   \n",
       "\n",
       "                         ARKANSAS  CALIFORNIA  COLORADO  CONNECTICUT  \\\n",
       "WEEK CAT                                                               \n",
       "1    (1908.999, 1940.0]     571.0      3053.0     836.0       2095.0   \n",
       "     (1940.0, 1971.0]      1040.0      7841.0    2018.0       3364.0   \n",
       "     (1971.0, 2001.0]         0.0       247.0      52.0         42.0   \n",
       "2    (1908.999, 1940.0]    1177.0      5572.0    1032.0       2189.0   \n",
       "     (1940.0, 1971.0]      1393.0     10663.0    2696.0       4447.0   \n",
       "...                           ...         ...       ...          ...   \n",
       "52   (1940.0, 1971.0]       930.0      4538.0    1409.0       1857.0   \n",
       "     (1971.0, 2001.0]         0.0       349.0      19.0          4.0   \n",
       "53   (1908.999, 1940.0]       2.0       211.0      47.0        325.0   \n",
       "     (1940.0, 1971.0]        76.0       813.0     401.0         53.0   \n",
       "     (1971.0, 2001.0]         0.0        17.0       0.0          0.0   \n",
       "\n",
       "                         DELAWARE  ...  UPSTATE NEW YORK    UTAH  VERMONT  \\\n",
       "WEEK CAT                           ...                                      \n",
       "1    (1908.999, 1940.0]     325.0  ...               0.0   903.0    784.0   \n",
       "     (1940.0, 1971.0]       257.0  ...             609.0  2039.0   1571.0   \n",
       "     (1971.0, 2001.0]         1.0  ...              57.0    80.0      0.0   \n",
       "2    (1908.999, 1940.0]     399.0  ...               0.0  1037.0    680.0   \n",
       "     (1940.0, 1971.0]       284.0  ...             445.0  2186.0   1757.0   \n",
       "...                           ...  ...               ...     ...      ...   \n",
       "52   (1940.0, 1971.0]       122.0  ...             156.0  1262.0    899.0   \n",
       "     (1971.0, 2001.0]         1.0  ...             107.0    64.0     25.0   \n",
       "53   (1908.999, 1940.0]      85.0  ...               0.0    85.0      8.0   \n",
       "     (1940.0, 1971.0]         7.0  ...               0.0    45.0      5.0   \n",
       "     (1971.0, 2001.0]         0.0  ...               4.0     0.0      0.0   \n",
       "\n",
       "                         VIRGIN ISLANDS  VIRGINIA  WASHINGTON  WEST VIRGINIA  \\\n",
       "WEEK CAT                                                                       \n",
       "1    (1908.999, 1940.0]             0.0    1042.0      1955.0         1395.0   \n",
       "     (1940.0, 1971.0]               1.0    3410.0      4052.0         4596.0   \n",
       "     (1971.0, 2001.0]               0.0       7.0        68.0           36.0   \n",
       "2    (1908.999, 1940.0]             0.0    1292.0      2696.0         1807.0   \n",
       "     (1940.0, 1971.0]               1.0    4354.0      5710.0         3980.0   \n",
       "...                                 ...       ...         ...            ...   \n",
       "52   (1940.0, 1971.0]               0.0    2459.0      2236.0         1665.0   \n",
       "     (1971.0, 2001.0]               0.0      12.0        17.0            6.0   \n",
       "53   (1908.999, 1940.0]             0.0      67.0        44.0           30.0   \n",
       "     (1940.0, 1971.0]               0.0     121.0        22.0          270.0   \n",
       "     (1971.0, 2001.0]               0.0       0.0         0.0            0.0   \n",
       "\n",
       "                         WISCONSIN  WYOMING  Unnamed: 61  \n",
       "WEEK CAT                                                  \n",
       "1    (1908.999, 1940.0]     2736.0    105.0          0.0  \n",
       "     (1940.0, 1971.0]       8721.0    724.0          0.0  \n",
       "     (1971.0, 2001.0]        116.0      0.0          0.0  \n",
       "2    (1908.999, 1940.0]     3508.0    106.0          0.0  \n",
       "     (1940.0, 1971.0]      11865.0    462.0          0.0  \n",
       "...                            ...      ...          ...  \n",
       "52   (1940.0, 1971.0]       5748.0    545.0          0.0  \n",
       "     (1971.0, 2001.0]        168.0      8.0          0.0  \n",
       "53   (1908.999, 1940.0]      181.0      4.0          0.0  \n",
       "     (1940.0, 1971.0]          0.0      4.0          0.0  \n",
       "     (1971.0, 2001.0]          0.0      0.0          0.0  \n",
       "\n",
       "[159 rows x 61 columns]"
      ]
     },
     "execution_count": 37,
     "metadata": {},
     "output_type": "execute_result"
    }
   ],
   "source": [
    "p.groupby(by=[p.WEEK,p.CAT]).aggregate(sum)"
   ]
  },
  {
   "cell_type": "code",
   "execution_count": null,
   "metadata": {},
   "outputs": [],
   "source": []
  }
 ],
 "metadata": {
  "kernelspec": {
   "display_name": "Python 3",
   "language": "python",
   "name": "python3"
  },
  "language_info": {
   "codemirror_mode": {
    "name": "ipython",
    "version": 3
   },
   "file_extension": ".py",
   "mimetype": "text/x-python",
   "name": "python",
   "nbconvert_exporter": "python",
   "pygments_lexer": "ipython3",
   "version": "3.8.0"
  }
 },
 "nbformat": 4,
 "nbformat_minor": 2
}
